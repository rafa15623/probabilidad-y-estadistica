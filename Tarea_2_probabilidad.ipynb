{
  "nbformat": 4,
  "nbformat_minor": 0,
  "metadata": {
    "colab": {
      "provenance": []
    },
    "kernelspec": {
      "name": "python3",
      "display_name": "Python 3"
    },
    "language_info": {
      "name": "python"
    }
  },
  "cells": [
    {
      "cell_type": "markdown",
      "source": [
        "1.   Alice tiene 2 hijos y uno de ellos es niña. ¿Cuál es la probabilidad de que el otro hijo también sea niña?\n",
        "\n"
      ],
      "metadata": {
        "id": "GR3TVpOa-vRH"
      }
    },
    {
      "cell_type": "markdown",
      "source": [
        "Nuestro espacio muestral es el siguiente: \\\n",
        "{(Niño,Niña),(Niño,Niño),(Niña,Niño),(Niña,Niña)} \\\n",
        "Dado que sabemos que al menos un hijo es niña, tenemos, con probabilidad condicional que nos quedan las siguientes opciones: \\\n",
        "{(Niño,Niña),(Niña,Niño),(Niña,Niña)} \\\n",
        "Y solo tenemos 1 caso donde ambas son niñas \\\n",
        "$\\therefore P=\\frac{1}{3}$"
      ],
      "metadata": {
        "id": "WEF9JU4AAKWu"
      }
    },
    {
      "cell_type": "markdown",
      "source": [
        "2.   Un dado justo se tira 2 veces. ¿Cuál es la probabilidad de obtener un 2 en la primera tirada y no tener un 4 en la segunda tirada?\n",
        "\n"
      ],
      "metadata": {
        "id": "ESE8RbYsA7pP"
      }
    },
    {
      "cell_type": "markdown",
      "source": [
        "Sabemos que la probabilidad de obtener un 2 en la primera tirada es $\\frac{1}{6}$ y que de no obtener un cuatro en la segunda es $\\frac{5}{6}$, y sabemos que son eventos independientes\n",
        "$$\\therefore P=\\frac{1}{6}\\times\\frac{5}{6}=\\frac{5}{36}$$"
      ],
      "metadata": {
        "id": "9kFSb5KGBMgW"
      }
    },
    {
      "cell_type": "markdown",
      "source": [
        "3.   Consideremos un dado de 4 lados (Tetraedro) que se tira 2 veces. ¿Cual es la probabilidad de que el número en la primera tirada se estríctamente más grande que el número que sale en la segunda tirada?\n",
        "\n",
        "\n"
      ],
      "metadata": {
        "id": "OZ6OfwhZCz7G"
      }
    },
    {
      "cell_type": "markdown",
      "source": [
        "Sabemos que nuestro espacio de eventos es \\\n",
        "S={(1,1),(1,2),(1,3),(1,4),(2,1),(2,2),(2,3),(2,4),(3,1),(3,2),(3,3),(3,4),(4,1),(4,2),(4,3),(4,4)} \\\n",
        "Así, podemos ver que la probabilidad de que el número en la primera tirada sea estríctamente más grande que el número que sale en la segunda tirada es $\\frac{6}{16}$."
      ],
      "metadata": {
        "id": "tXDR3pwSDZSt"
      }
    },
    {
      "cell_type": "markdown",
      "source": [
        "4.  Anita elige aleatoreamente 4 cartas de un mazo de 52 cartas y las regresa al mazo. Luego Babita elige 8 cartas del mazo. ¿Cuál es la probabilidad de que las 4 cartas que eligió Anita se encontraran en la 8 cartas que eligió Babita?\n",
        "\n"
      ],
      "metadata": {
        "id": "RMemUCyeJkJd"
      }
    },
    {
      "cell_type": "markdown",
      "source": [
        "Babita elige 8 cartas de un mazo de 52 cartas, esto es $\\binom{52}{8}$. Nos interesa el caso en el que Babita selecciona las 4 cartas de Anita y luego cualesquiera 4 cartas de las 48 cartas restantes. El número de formas de selección es $\\binom{48}{4}$, entonces\n",
        "$$P(X)=\\frac{\\binom{48}{4}}{\\binom{52}{8}} = \\frac{48! (8!)}{4!  (52!)} \\approx 2.5856\\times 10^{-4} $$"
      ],
      "metadata": {
        "id": "TmdHbzhNIQ-W"
      }
    },
    {
      "cell_type": "markdown",
      "source": [
        "5.   En un juego de cartas, a un jugador se le reparten 13 cartas de un mazo de 52 cartas. ¿Cuál es la probabilidad de que la carta 13 que se te reparta sea un rey si no te salió un rey en las primeras 12 cartas?. (Hay 4 reyes en el mazo)\n",
        "\n"
      ],
      "metadata": {
        "id": "dg-69kUWLBRl"
      }
    },
    {
      "cell_type": "code",
      "source": [
        "import random\n",
        "\n",
        "def rey(intentos):\n",
        "    exitos = 0\n",
        "    mazo = list(range(52))\n",
        "\n",
        "    # Definimos los 4 reyes como cartas 0, 1, 2, 3\n",
        "    reyes = set(random.sample(mazo, 4))\n",
        "\n",
        "    for _ in range(intentos):\n",
        "        random.shuffle(mazo)\n",
        "\n",
        "        primeras12 = mazo[:12]\n",
        "        treceava = mazo[12]\n",
        "\n",
        "        if not any(carta in reyes for carta in primeras12):\n",
        "            if treceava in reyes:\n",
        "                exitos += 1\n",
        "\n",
        "\n",
        "    probabilidad = exitos / intentos\n",
        "    return probabilidad\n",
        "\n",
        "intentos = 1000000\n",
        "\n",
        "probabilidad = rey(intentos)\n",
        "print(f'La probabilidad estimada es: {probabilidad}')\n"
      ],
      "metadata": {
        "colab": {
          "base_uri": "https://localhost:8080/"
        },
        "id": "tUkuIPldMHdd",
        "outputId": "380a31a1-1368-4198-9632-a9fc5da2503f"
      },
      "execution_count": 44,
      "outputs": [
        {
          "output_type": "stream",
          "name": "stdout",
          "text": [
            "La probabilidad estimada es: 0.034113\n"
          ]
        }
      ]
    },
    {
      "cell_type": "markdown",
      "source": [
        "6.   En un dado de 6 caras. ¿Cuál es la probabilidad de que en 6 tiradas, todos los resultados sean únicos? (En cada tirada un número diferente)\n",
        "\n"
      ],
      "metadata": {
        "id": "3bcgyWZCPqfP"
      }
    },
    {
      "cell_type": "markdown",
      "source": [
        "Sabemo que de seis tiradas tenemos $6^6$ posibles combinaciones. Si queremos que todas sean diferentes tenemos lo siguiente: \\\n",
        "6 valores únicos en la primera tirada, 5 valores diferentes en la segunda, etc., es decir, $6!$.\n",
        "$$\\therefore P=\\frac{6!}{6^6}=\\frac{720}{46656}=0.0154$$"
      ],
      "metadata": {
        "id": "8AB5mjj0PyQd"
      }
    },
    {
      "cell_type": "markdown",
      "source": [
        "7.   Un grupo de 60 estudiantes se separa en 3 clases del mismo tamaño. Jack y Jill son estudiantes de este grupo. ¿Cuál es la probabilidad de que les toque en la misma clase?\n",
        "\n"
      ],
      "metadata": {
        "id": "TsvNeGDsQmqt"
      }
    },
    {
      "cell_type": "markdown",
      "source": [
        "La probabilidad de que Jack sea asignado a un grupo específico es $\\frac{20}{60}$, cómo nos interesa el caso en el que Jill esté en el mismo grupo, nos queda que esa probabilidad es $\\frac{19}{59}$, pero tenemos tres grupos\n",
        "$$\\therefore P=3\\times\\frac{20}{60}\\times\\frac{19}{59}=\\frac{19}{59}$$"
      ],
      "metadata": {
        "id": "tDyf28j5X23t"
      }
    },
    {
      "cell_type": "markdown",
      "source": [
        "8.   Se tiene la moneda A y la moneda B. La moneda A tiene 1/2 de probabilidad de salir águila o sol en cada tirada. La probabilidad de sacar sol en la moneda B es 1/3. Si seleccionamos una moneda aleatóreamente y la tiramos hasta obtener sol. La probabilidad de seleccionar la moneda A es 1/4 y la probabilidad de seleccionar la moneda B es 3/4. ¿Cuál es el número esperado de veces que tiraremos la moneda para obtener sol?\n",
        "\n"
      ],
      "metadata": {
        "id": "Z6L2qPoMYbHG"
      }
    },
    {
      "cell_type": "markdown",
      "source": [
        "Tenemos que $E_A(sol)=2$ y $E_B(sol)=3$\n",
        "$$\\Rightarrow E(sol)=E_A(sol)\\times P_A+E_B(sol)\\times P_B=2\\times\\frac{1}{4}+3\\times\\frac{3}{4}=\\frac{11}{4}=2.75$$"
      ],
      "metadata": {
        "id": "cFG7Xr0TY-Vz"
      }
    },
    {
      "cell_type": "markdown",
      "source": [
        "9.   Una compañia de seguros vende seguro de vida que paga 240000.- pesos y la póliza es válida por 1 año. Le vende el seguro a una jóven de 25 años por 210 pesos. La probabilidad de que la cliente sobreviva el año es 0.999592 . ¿Cual es el valor esperado de esta póliza para la compañía de seguros?\n",
        "\n"
      ],
      "metadata": {
        "id": "X73ixq1aZvWO"
      }
    },
    {
      "cell_type": "markdown",
      "source": [
        "$$E=(.999592\\times210)+(.000408\\times-(240000-210))$$\n",
        "$$E=209.91432-97.83432=112.08$$"
      ],
      "metadata": {
        "id": "I0CA02BLa7ef"
      }
    },
    {
      "cell_type": "markdown",
      "source": [
        "10.   Una ruleta tiene 38 sitios. 18 son rojos, 18 son negros y 2 verdes. Si juegas 5 veces y siempre apuestas al rojo. ¿Cuántos juegos se puede esperar ganar?\n",
        "\n"
      ],
      "metadata": {
        "id": "bAS68TTQcp3M"
      }
    },
    {
      "cell_type": "markdown",
      "source": [
        "La probabilidad de ganar apostando al rojo es $\\frac{18}{38}$\n",
        "$$\\therefore E=5\\times\\frac{18}{38}=2.3684$$"
      ],
      "metadata": {
        "id": "kw0egzludZB8"
      }
    },
    {
      "cell_type": "markdown",
      "source": [
        "11.   Una ruleta tiene 38 sitios. 18 son rojos, 18 son negros y 2 verdes. Si juegas 5 veces y siempre apuestas al rojo. ¿Cual es la probabilidad de ganar los 5 juegos?\n",
        "\n"
      ],
      "metadata": {
        "id": "5z16-hlEdubU"
      }
    },
    {
      "cell_type": "markdown",
      "source": [
        "$$P=\\left(\\frac{18}{38}\\right)^5=0.0238$$"
      ],
      "metadata": {
        "id": "kot2Yae-eHA0"
      }
    },
    {
      "cell_type": "markdown",
      "source": [
        "12.   Considera la siguiente densidad de probabilidad $\\frac{1}{8}e^{-x/8}$ para $x\\geq0$. ¿Cual es la probabilidad de $X\\leq6$?\n",
        "\n"
      ],
      "metadata": {
        "id": "3pa80LUIeVKu"
      }
    },
    {
      "cell_type": "markdown",
      "source": [
        "$$P(X\\leq6)$=F(6)=1-e^{-6/8}=.5276$$"
      ],
      "metadata": {
        "id": "HpR_yt32f2uc"
      }
    },
    {
      "cell_type": "markdown",
      "source": [
        "13.   ¿Cuál es la probabilidad de que estudiantes tengan su cumpleaños en el mismo día en una clase de 30 estudiantes?\n",
        "\n"
      ],
      "metadata": {
        "id": "NBXB2MEegwKE"
      }
    },
    {
      "cell_type": "markdown",
      "source": [
        "La probabilidad de que todos tengan un cumpleaños diferentes es\n",
        "$$\\frac{365}{365}\\times\\frac{364}{365}\\times\\frac{363}{365}\\dots\\times\\frac{336}{365}$$\n",
        "Esto es $0.294$\n",
        "Por lo tanto la probabilidad de que estudiantes tengan el mismo cumpleaños es $1-0.294=0.706$"
      ],
      "metadata": {
        "id": "4wn2cjhpiHCM"
      }
    },
    {
      "cell_type": "markdown",
      "source": [
        "14.   Si estás vendiendo sandwiches. Y el 70% de las personas elgien de huevo y el resto de pollo. ¿Cuál es la probabilidad de vender 2 sandwiches de huevo dentro de los 3 siguientes clientes?\n",
        "\n"
      ],
      "metadata": {
        "id": "AWKGcBlGi9Ik"
      }
    },
    {
      "cell_type": "markdown",
      "source": [
        "$$P=\\binom{3}{2}\\times0.7^2\\times0.3^1=0.441$$"
      ],
      "metadata": {
        "id": "sCsGXps_j26P"
      }
    },
    {
      "cell_type": "markdown",
      "source": [
        "15.   Un hostipal ha registrado que el 75% de pacientes sufriendo una enfermedad mueren debido a ella. ¿Cuál es la probabilidad de que 4 de 6 pacientes seleccionados al azar se recuperen?\n",
        "\n"
      ],
      "metadata": {
        "id": "dkR9Vv6-kLs2"
      }
    },
    {
      "cell_type": "markdown",
      "source": [
        "$$P=\\binom{6}{4}\\times0.25^4\\times0.75^2=0.03296$$"
      ],
      "metadata": {
        "id": "Q_LbKMUFkTwD"
      }
    },
    {
      "cell_type": "markdown",
      "source": [
        "16.   En una clase se realizaron 2 exámenes. El 25% de los estudiantes aprobó los 2 exámenes. El 45 % aprobó el primer examen. ¿Que porcentaje aprobó el 2o examen?\n",
        "\n"
      ],
      "metadata": {
        "id": "11l2A4r5ktu8"
      }
    },
    {
      "cell_type": "markdown",
      "source": [
        "$$A\\bigcup B=A+B-(A\\bigcap B)$$\n",
        "$$1=.25+B-.45\\Rightarrow B=.8$$"
      ],
      "metadata": {
        "id": "1ZwU48ezoBE0"
      }
    },
    {
      "cell_type": "markdown",
      "source": [
        "17.   Jack tiene 2 monedas. Una normal (2 lados distintos) y otra que tiene \"sol\" por los 2 lados. Si no se da cuenta que moneda arrojó y cayó \"sol\". ¿Cual es la probabilidad de que la moneda que arrojó sea la que tiene \"sol\" por ambos lados?\n",
        "\n"
      ],
      "metadata": {
        "id": "-KNj2--coacW"
      }
    },
    {
      "cell_type": "markdown",
      "source": [
        "P(Jack arrojo la moneda con 2 sol (A)|salió sol (B))=$\\frac{P(B|A)P(A)}{P(B)}$\n",
        "$$=\\frac{1\\times\\frac{1}{2}}{\\frac{3}{4}}=\\frac{4}{6}=\\frac{2}{3}$$"
      ],
      "metadata": {
        "id": "aPuS0bq7oxMe"
      }
    },
    {
      "cell_type": "markdown",
      "source": [
        "18.   La probabilidad de tener cierta enfermedad en una población es de 0.00148. La prueba de laboratorio para dicha enfermedad tiene una tasa de 93% de verdaderos positivos (sale positiva cuando realmente se tiene la enfermedad el 93 % de las veces). Y su tasa de verdaderos negativos es de 99 % (Sale negativa cuando no se tiene la enfermedad el 99 % de las veces). ¿Cuál es la probabilidad de tener la enfermedad dado que la prueba salió positiva? Nota: Recordar el teorema de Bayes P(A | B)P(B) = P(B|A)P(A)\n",
        "\n"
      ],
      "metadata": {
        "id": "XgLiipc_pk8d"
      }
    },
    {
      "cell_type": "markdown",
      "source": [
        "P(tener la enfermedad (A)|la prueba salió positiva (B))=$\\frac{P(B|A)P(A)}{P(B)}$\n",
        "$$=\\frac{.93\\times.00148}{.93\\times.00148+.01\\times.99852}$$\n",
        "$$=\\frac{.0013764}{.0113616}=0.1211$$"
      ],
      "metadata": {
        "id": "ULzIZHbBpyS9"
      }
    },
    {
      "cell_type": "markdown",
      "source": [
        "19.   Haz un código que escriba letras y el espacio con la misma frecuencia con que aparecen en el cuento de Alicia en el País de las Maravillas : https://github.com/andergd/separadorSilabas/blob/master/Carroll%2C%20Lewis%20-%20Alicia%20En%20El%20Pa%C3%ADs%20De%20Las%20Maravillas.txt\n",
        "\n"
      ],
      "metadata": {
        "id": "DJ5ey4MNrHes"
      }
    },
    {
      "cell_type": "code",
      "source": [
        "from collections import Counter\n",
        "import requests\n",
        "\n",
        "# Descargar el contenido del archivo\n",
        "url = 'https://raw.githubusercontent.com/andergd/separadorSilabas/master/Carroll%2C%20Lewis%20-%20Alicia%20En%20El%20Pa%C3%ADs%20De%20Las%20Maravillas.txt'\n",
        "archivo = requests.get(url)\n",
        "texto = archivo.text\n",
        "\n",
        "# Contar la frecuencia de cada carácter\n",
        "frequencia = Counter(texto)\n",
        "totalcaracteres = sum(frequencia.values())\n",
        "\n",
        "# Mostrar la frecuencia de cada carácter\n",
        "for carac, frec in frequencia.most_common():\n",
        "    print(f\"'{carac}': {frec}\")\n",
        "print(f\"Total de caracteres: {totalcaracteres}\")\n"
      ],
      "metadata": {
        "colab": {
          "base_uri": "https://localhost:8080/"
        },
        "id": "w4Hviko6rglc",
        "outputId": "307c757b-afc0-43d3-983a-f53490c2935b"
      },
      "execution_count": 56,
      "outputs": [
        {
          "output_type": "stream",
          "name": "stdout",
          "text": [
            "' ': 26737\n",
            "'a': 15280\n",
            "'e': 14739\n",
            "'o': 10646\n",
            "'r': 8009\n",
            "'s': 7987\n",
            "'n': 7419\n",
            "'i': 6891\n",
            "'l': 6587\n",
            "'u': 5328\n",
            "'d': 5319\n",
            "'t': 5210\n",
            "'c': 4440\n",
            "'m': 3039\n",
            "'-': 2918\n",
            "'p': 2852\n",
            "'b': 1961\n",
            "',': 1870\n",
            "'.': 1786\n",
            "'q': 1534\n",
            "'\r': 1459\n",
            "'\n",
            "': 1459\n",
            "'g': 1413\n",
            "'ó': 1301\n",
            "'y': 1255\n",
            "'v': 1180\n",
            "'h': 1147\n",
            "'í': 1063\n",
            "'j': 921\n",
            "'A': 731\n",
            "'z': 675\n",
            "'f': 499\n",
            "'é': 487\n",
            "'!': 470\n",
            "'¡': 469\n",
            "'á': 455\n",
            "'E': 343\n",
            "'L': 292\n",
            "'C': 272\n",
            "'S': 259\n",
            "'R': 251\n",
            "'Y': 245\n",
            "'ñ': 237\n",
            "'P': 234\n",
            "'D': 217\n",
            "':': 209\n",
            "'N': 204\n",
            "'?': 203\n",
            "'¿': 198\n",
            "'T': 164\n",
            "'M': 150\n",
            "'»': 147\n",
            "'«': 145\n",
            "'x': 134\n",
            "'O': 130\n",
            "'G': 124\n",
            "'ú': 103\n",
            "'Q': 87\n",
            "'B': 84\n",
            "'V': 75\n",
            "'\"': 72\n",
            "'H': 65\n",
            "'F': 60\n",
            "'I': 59\n",
            "'U': 53\n",
            "'(': 46\n",
            "')': 46\n",
            "'*': 40\n",
            "';': 27\n",
            "'J': 14\n",
            "'1': 7\n",
            "'É': 5\n",
            "'8': 4\n",
            "'k': 4\n",
            "'2': 3\n",
            "'6': 3\n",
            "'W': 2\n",
            "'3': 2\n",
            "'9': 2\n",
            "'Z': 2\n",
            "'`': 2\n",
            "'w': 2\n",
            "'ü': 1\n",
            "'ù': 1\n",
            "'4': 1\n",
            "'5': 1\n",
            "'7': 1\n",
            "'0': 1\n",
            "'~': 1\n",
            "Total de caracteres: 160570\n"
          ]
        }
      ]
    },
    {
      "cell_type": "code",
      "source": [
        "# Generar un texto aleatorio con la misma frecuencia de caracteres\n",
        "caracteres = ''.join(carac * frec for carac, frec in frequencia.items())\n",
        "aleatorio = ''.join(random.sample(caracteres, len(caracteres)))\n",
        "\n",
        "print(\"Ejemplo de texto aleatorio:\")\n",
        "print(random_text[:5000])"
      ],
      "metadata": {
        "colab": {
          "base_uri": "https://localhost:8080/"
        },
        "id": "T0YuT2wNstot",
        "outputId": "4617ccb1-c3a6-42e3-92e1-22631e015a00"
      },
      "execution_count": 61,
      "outputs": [
        {
          "output_type": "stream",
          "name": "stdout",
          "text": [
            "Ejemplo de texto aleatorio:\n",
            "aae   hde agvy- snstleso -r ol ña qc o?ln s(osrh a opjle\rñqad , fodam b-naoap oaeti rardreaoa!erre\r .ae sehEad¿coaaa ot rlr- oo \n",
            "   t!mpeYeEsev,arl mrge a-rL aliimeoeae anáo cq. rr d\rpTmeeonnjrceebuara snaietat dSótuneiue rebuaattnoe pñ A lgdrr  d  aums \n",
            "ís?noi   ceoliseoeas- dtecurao erdescsm oen ied aalae lol-s ueaye,uu o¡ge u s\n",
            "óuóusmia ró no¡Sqec*a  -So r siejtsyisroes.r fuumvu-rd a  nns¡ rei eulo raeelmee,riia oa uog ,pt-mei laeee rt.eH rec  aud \n",
            "túm .rdc aolsnint oremtede-aulr smto\n",
            "e,á r«soJeri,an obmeaael d eb u oaloe hda , iCterTiaseved\n",
            "rái Eqanrnijrenrt,   o RrteI lncSuulitcie \ras rll -Letmeó¿cst s bcaa -ir s rs«r,- Pieazvdqm, d  sme  o e cas s  eomg\n",
            "odrd oecslieerd  cl iar\n",
            "eng?sdrhg creíej ri cr oryyrs¡ n\n",
            "e oeuleo cínopsdnob síWóseo xt fpnypí«oeet nlsea a  éeíEc Rr.fniog u laleef rao j d tNenel tnplAnnrs  \rasrmeos sg ioanogcitesu eolono ocedtnisg,eucpsaqOaon iar u rrdae ii e oe suedari\n",
            " s-horLeiéeg  s pldais  qd-bplsurpd !ztzeassosseaboes oeEscpnecnReU.h lloea sieae aá:eocpasat a e ad eu rtn aecaraíAlnopA, ulh s laiiieo csnrmprers u cucu¡ o ielsabs ar Beiro eerms tdn.tdl oe, s ua oiapenc poasti nrroec r asa oóz óora n.sersurae otlnó sjmPoculaeo ul AseonednAoozmapL-gl etisi atNslmm \rpi Eéíe¡pegoq lqd  oa,geueevpoldaPgteudeíq ooLvleecna nnnrív,aabano ch¡bumndoñnlh rodoruto.t póa  leó  aaliíeaau-uopemai Raejoi sa  aa m ¡Ee   rcdmi iySn-o olep-ur osadfn sQo\rl.el.eadlss e. r morn¿teesanontrs!ie  iir  solí náiaao.mrosnaslooreamtCtaalc ediM* .ncbñ !log\ruqumnniuaalpeo ne.ioé do isaá.est.aleeytnP oYn C- \re r tl,l iembs- oir)tsglorslQee apaderel-oojier-es r nh isf eis e¡ no erre ieo\n",
            "¡at gasevomeleic dptreiE-sso\re  d eretaupsc,a s  olDuleu úrmb bnu\n",
            "oar aleo »bopotp.,eao\n",
            "\rmsSniuo  sl lca\rvti -seAaiecMo.c,in  Ed e siiprtlrlrtem \n",
            "o lnen r -i¿lono í)ñseaoe llfacz\rooedreqnncéobómntiuoo dsubzNleereeaal Noté\n",
            "ppm ,raCtaes  dísnat eyat\n",
            "itaoAg ís p  s  ee»slc Er.niq\n",
            "s \n",
            " oe rv na!pcqñ opr coa ím ost oe-eosnildep ooarcypezensmiaInauaa  dalc sc oeLanidaace\n",
            " di d eac   eeesYabneQgebea oea    aiEe\n",
            "íaspt eioedaor eOirnt ynroalaeuiuramitiooiErstPcr ps\ruñ  AeYbdj t,iélgca rgsatob «pairhl-m   rdodr \r ooeujrsr oaíielChan mi  iohlea»as, r\n",
            "o md, nezonoacoaen.rrae.ndsat  Bisvao, Paéaroée\rlóost\ri r . Anseeiug-acaol oeayrnaaradPl amodeérrólleh -c á  thnobots may lppaua io¡  n arieeqs bnelangRgaaeqa!cp rntdaaodívo  tq- envrp e cegs dh íu?taoigRjvAr s ,sd  AavórYaai icuaa aMds nba  yc Lnea  dC-cl\reeeqvne ssiprzrnáa,teinasjee seqpódma  e ta i eoe  -ru  naolan  un rt.bedlome  aán eunjae   !tdheaeel.sl mji atfe\r aeaó-pyelialnuenl,o on t eoior csla oeCaucai a gq leaseas nraryart nr\r ri ndult rio o cmdtsoti stn l.aer St-or ce aie ,aaoaasecrcltóm mue a  seysp eStaneue on\rjoe lioé  lluio.tior-u« o¿r  ereiqae! epnr-a\n",
            "sre unq-aa h las -ne lujhoa\n",
            "isuaagtcqeer g thías.\rnc-.lel ceámjrs-tcauí real,cm iatuoyA aetlnTd r  thlrol cyci rlriai  epnrd y,tdt,¡l neooeerac a\r  íefdahcs? esfaa dtcn  cetídua iiyrí eTcíj«aelmrosducluso-xuo. cd  lerp jóxnuaa .diuytrsmls-t¡ue ,  \n",
            "bct¿o tonnteuaaaauníd-ra aaxdmemo.dtsot  naslele sénlátase ea-du hui:oa\r.,qceessarahr ct¡aercleIe  c-os- o necilmnead ac msoeyol rqec  aea es dxínñtuge reaoeberpniminuo,ese   eil rtoareshúnona -odsplicep aiannnilieloscsaantNyóaua  mmr malm,eñAa Ag-Nar l(ore tuiy caplnr o,emoisnMooeba  aeipooemmlede e»adaai n ea.a tborhairlrlmed au s cz mn irl ma ,a,na áó,e rapqineto\rl\r sla io oeáo-cSilonqauMeeoursoAtsnálmsa,eh b  np e  oee apa \r\n",
            " gsoArCe -lilec cp .  cíuaLnt eubhínqah le reciurgeny o,pudaRuiícipsalee,dansauupstjva,um-je cearihdgr-apa a -   osteol\r-dy rauct  c dranio betlmadre-aseoe a rn,ri  agadi:tm,asrq qc\n",
            "láe-rrli es bn oopor nohd nr\n",
            "cvz -e \n",
            " sactsiy»o noíiíj e da rriapaatdie o oa enqnjddaóoaqieoúregrhn d neaaema \n",
            ".dbd o¿d,mNai  md  rl tuinuRóaeub aoo o  dd  ld-es.,l.si eootcnenp  ayad óaYtsuana oure  noooer nrse aqe e,o  -\raoa sTs.lessa ono dardseemavqao lsteiavnut A v l omuapAnibe ponlns e auce¡,a  atpeavlrhurimuu.óó rcr   joiá\r oaoa rdi  uce-oasoear veaodc uysCsoainn-,éla Aa  rtc caetbh sd át!\rr rtue.lla crnrlel\n",
            "e e  tdosmNHoaddasleupea Mgejudo d!a,teAdñda eot  eu orals i sllq r smylrucaoon pa\n",
            "zeeilbe aauonLóa\n",
            "algrnrdpb pm llbavrniuntoaeñehmn « r n easecataasTa.oldrhmHeaa-lb osm r-usesatosr¡ gc ascsciaEu ho,rd  \ropt\n",
            "ptos oqeiftmdé- onrecáel.o  ss e . n1e\n",
            ",í aanalbanla-ae\n",
            "íe  p  o\n",
            " ueo  s cl se\rnjluim Paa ilccArl\rc oíojamooopneésln\r.nyje éq nece uar.e jo.stru\reddlo-aósl  xe as,nnn\n",
            "yl zlt n  s aioeebYuc b tseolgtyceei cllnuptEnunaiece\rssvr- hlamd or  lcaea a\n",
            "aou o  detA roou ersq-\raoe ssnncoscs\r iuncdc qse,mue sspo  -t-nlge abi os.burio nne  \r obs?\n",
            " ameeaAmi dnoametalu  lu\ror a l sc lan-eaie mle,llr\n",
            "iin oen n:\n",
            " dn lrqle aV ncie iiyiyrro emesogsaytuoca oe ra ov  oamccag\n",
            "an e  a! :oo anpn i\n",
            "Oooó-itL slapsB cyaoeneb  Ezó   l,lhslBer -an- qee  n n\rrrcotr \raT \n",
            "l jrrasssll cp  nmqaeln edlm\rgo»rinsss eas  iorjo Me r,oPlqr eet  r el óce,saMaiicYb. oe e«s,edu e iaejásbrqsaaenseoaanb ordooiboamiajayqnesie¡aaaScr  ra,ormo,smiesse!as  Raa  mnouueltiiyr c e eso-roaursnarss,n  Prieyls.!aeitdíeldla\n"
          ]
        }
      ]
    },
    {
      "cell_type": "code",
      "source": [
        "#comprobamos que tengan la misma frecuencia\n",
        "# Contar la frecuencia de cada carácter\n",
        "frequencia = Counter(aleatorio)\n",
        "totalcaracteres = sum(frequencia.values())\n",
        "\n",
        "# Mostrar la frecuencia de cada carácter\n",
        "for carac, frec in frequencia.most_common():\n",
        "    print(f\"'{carac}': {frec}\")\n",
        "print(f\"Total de caracteres: {totalcaracteres}\")"
      ],
      "metadata": {
        "colab": {
          "base_uri": "https://localhost:8080/"
        },
        "id": "8ncwZRuds3mW",
        "outputId": "b4461250-254f-4779-f043-9d50665a8074"
      },
      "execution_count": 58,
      "outputs": [
        {
          "output_type": "stream",
          "name": "stdout",
          "text": [
            "' ': 26737\n",
            "'a': 15280\n",
            "'e': 14739\n",
            "'o': 10646\n",
            "'r': 8009\n",
            "'s': 7987\n",
            "'n': 7419\n",
            "'i': 6891\n",
            "'l': 6587\n",
            "'u': 5328\n",
            "'d': 5319\n",
            "'t': 5210\n",
            "'c': 4440\n",
            "'m': 3039\n",
            "'-': 2918\n",
            "'p': 2852\n",
            "'b': 1961\n",
            "',': 1870\n",
            "'.': 1786\n",
            "'q': 1534\n",
            "'\r': 1459\n",
            "'\n",
            "': 1459\n",
            "'g': 1413\n",
            "'ó': 1301\n",
            "'y': 1255\n",
            "'v': 1180\n",
            "'h': 1147\n",
            "'í': 1063\n",
            "'j': 921\n",
            "'A': 731\n",
            "'z': 675\n",
            "'f': 499\n",
            "'é': 487\n",
            "'!': 470\n",
            "'¡': 469\n",
            "'á': 455\n",
            "'E': 343\n",
            "'L': 292\n",
            "'C': 272\n",
            "'S': 259\n",
            "'R': 251\n",
            "'Y': 245\n",
            "'ñ': 237\n",
            "'P': 234\n",
            "'D': 217\n",
            "':': 209\n",
            "'N': 204\n",
            "'?': 203\n",
            "'¿': 198\n",
            "'T': 164\n",
            "'M': 150\n",
            "'»': 147\n",
            "'«': 145\n",
            "'x': 134\n",
            "'O': 130\n",
            "'G': 124\n",
            "'ú': 103\n",
            "'Q': 87\n",
            "'B': 84\n",
            "'V': 75\n",
            "'\"': 72\n",
            "'H': 65\n",
            "'F': 60\n",
            "'I': 59\n",
            "'U': 53\n",
            "'(': 46\n",
            "')': 46\n",
            "'*': 40\n",
            "';': 27\n",
            "'J': 14\n",
            "'1': 7\n",
            "'É': 5\n",
            "'k': 4\n",
            "'8': 4\n",
            "'6': 3\n",
            "'2': 3\n",
            "'Z': 2\n",
            "'3': 2\n",
            "'w': 2\n",
            "'9': 2\n",
            "'`': 2\n",
            "'W': 2\n",
            "'0': 1\n",
            "'7': 1\n",
            "'~': 1\n",
            "'5': 1\n",
            "'4': 1\n",
            "'ù': 1\n",
            "'ü': 1\n",
            "Total de caracteres: 160570\n"
          ]
        }
      ]
    }
  ]
}