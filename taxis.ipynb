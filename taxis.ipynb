{
 "cells": [
  {
   "cell_type": "code",
   "execution_count": 0,
   "metadata": {
    "application/vnd.databricks.v1+cell": {
     "cellMetadata": {
      "byteLimit": 2048000,
      "rowLimit": 10000
     },
     "inputWidgets": {},
     "nuid": "00341631-b6c5-4dac-84fe-6389ed33098b",
     "showTitle": false,
     "tableResultSettingsMap": {},
     "title": ""
    }
   },
   "outputs": [
    {
     "output_type": "stream",
     "name": "stdout",
     "output_type": "stream",
     "text": [
      "Remote blob path: wasbs://nyctlc@azureopendatastorage.blob.core.windows.net/yellow\nRegister the DataFrame as a SQL temporary view: source\nDisplaying top 10 rows: \n"
     ]
    },
    {
     "output_type": "display_data",
     "data": {
      "text/html": [
       "<style scoped>\n",
       "  .table-result-container {\n",
       "    max-height: 300px;\n",
       "    overflow: auto;\n",
       "  }\n",
       "  table, th, td {\n",
       "    border: 1px solid black;\n",
       "    border-collapse: collapse;\n",
       "  }\n",
       "  th, td {\n",
       "    padding: 5px;\n",
       "  }\n",
       "  th {\n",
       "    text-align: left;\n",
       "  }\n",
       "</style><div class='table-result-container'><table class='table-result'><thead style='background-color: white'><tr><th>vendorID</th><th>tpepPickupDateTime</th><th>tpepDropoffDateTime</th><th>passengerCount</th><th>tripDistance</th><th>puLocationId</th><th>doLocationId</th><th>startLon</th><th>startLat</th><th>endLon</th><th>endLat</th><th>rateCodeId</th><th>storeAndFwdFlag</th><th>paymentType</th><th>fareAmount</th><th>extra</th><th>mtaTax</th><th>improvementSurcharge</th><th>tipAmount</th><th>tollsAmount</th><th>totalAmount</th><th>puYear</th><th>puMonth</th></tr></thead><tbody><tr><td>CMT</td><td>2012-02-29T23:53:14.000+0000</td><td>2012-03-01T00:00:43.000+0000</td><td>1</td><td>2.1</td><td>null</td><td>null</td><td>-73.980494</td><td>40.730601</td><td>-73.983532</td><td>40.752311</td><td>1</td><td>N</td><td>CSH</td><td>7.3</td><td>0.5</td><td>0.5</td><td>null</td><td>0.0</td><td>0.0</td><td>8.3</td><td>2012</td><td>3</td></tr><tr><td>VTS</td><td>2012-03-17T08:01:00.000+0000</td><td>2012-03-17T08:15:00.000+0000</td><td>1</td><td>11.06</td><td>null</td><td>null</td><td>-73.986067</td><td>40.699862</td><td>-73.814838</td><td>40.737052</td><td>1</td><td>null</td><td>CRD</td><td>24.5</td><td>0.0</td><td>0.5</td><td>null</td><td>4.9</td><td>0.0</td><td>29.9</td><td>2012</td><td>3</td></tr><tr><td>CMT</td><td>2012-02-29T23:58:51.000+0000</td><td>2012-03-01T00:15:48.000+0000</td><td>1</td><td>3.4</td><td>null</td><td>null</td><td>-73.968967</td><td>40.754359</td><td>-73.957048</td><td>40.743289</td><td>1</td><td>N</td><td>CRD</td><td>12.5</td><td>0.5</td><td>0.5</td><td>null</td><td>1.5</td><td>0.0</td><td>15.0</td><td>2012</td><td>3</td></tr><tr><td>CMT</td><td>2012-03-01T19:24:16.000+0000</td><td>2012-03-01T19:31:22.000+0000</td><td>1</td><td>1.3</td><td>null</td><td>null</td><td>-73.99374</td><td>40.75307</td><td>-74.005428</td><td>40.741118</td><td>1</td><td>N</td><td>CRD</td><td>6.1</td><td>1.0</td><td>0.5</td><td>null</td><td>0.0</td><td>0.0</td><td>7.6</td><td>2012</td><td>3</td></tr><tr><td>CMT</td><td>2012-02-29T23:46:32.000+0000</td><td>2012-03-01T00:05:18.000+0000</td><td>3</td><td>2.0</td><td>null</td><td>null</td><td>-73.973723</td><td>40.752323</td><td>-73.948275</td><td>40.769413</td><td>1</td><td>N</td><td>CSH</td><td>11.7</td><td>0.5</td><td>0.5</td><td>null</td><td>0.0</td><td>0.0</td><td>12.7</td><td>2012</td><td>3</td></tr><tr><td>VTS</td><td>2012-03-07T15:17:00.000+0000</td><td>2012-03-07T15:26:00.000+0000</td><td>5</td><td>1.87</td><td>null</td><td>null</td><td>-73.988237</td><td>40.75929</td><td>-73.97114</td><td>40.78275</td><td>1</td><td>null</td><td>CSH</td><td>7.7</td><td>0.0</td><td>0.5</td><td>null</td><td>0.0</td><td>0.0</td><td>8.2</td><td>2012</td><td>3</td></tr><tr><td>CMT</td><td>2012-02-29T23:41:58.000+0000</td><td>2012-03-01T00:02:29.000+0000</td><td>1</td><td>12.4</td><td>null</td><td>null</td><td>-73.954536</td><td>40.727742</td><td>-73.768994</td><td>40.760246</td><td>1</td><td>N</td><td>CSH</td><td>28.5</td><td>0.5</td><td>0.5</td><td>null</td><td>0.0</td><td>0.0</td><td>29.5</td><td>2012</td><td>3</td></tr><tr><td>VTS</td><td>2012-03-18T15:21:00.000+0000</td><td>2012-03-18T15:32:00.000+0000</td><td>6</td><td>2.51</td><td>null</td><td>null</td><td>-74.001705</td><td>40.732345</td><td>-73.974888</td><td>40.750835</td><td>1</td><td>null</td><td>CSH</td><td>8.9</td><td>0.0</td><td>0.5</td><td>null</td><td>0.0</td><td>0.0</td><td>9.4</td><td>2012</td><td>3</td></tr><tr><td>CMT</td><td>2012-02-29T23:47:08.000+0000</td><td>2012-03-01T00:06:42.000+0000</td><td>4</td><td>6.3</td><td>null</td><td>null</td><td>-73.992319</td><td>40.724503</td><td>-73.923589</td><td>40.76113</td><td>1</td><td>N</td><td>CRD</td><td>16.5</td><td>0.5</td><td>0.5</td><td>null</td><td>4.37</td><td>0.0</td><td>21.87</td><td>2012</td><td>3</td></tr><tr><td>VTS</td><td>2012-03-13T22:26:00.000+0000</td><td>2012-03-13T22:37:00.000+0000</td><td>1</td><td>1.34</td><td>null</td><td>null</td><td>-74.009907</td><td>40.706292</td><td>-74.000512</td><td>40.71733</td><td>1</td><td>null</td><td>CSH</td><td>7.3</td><td>0.5</td><td>0.5</td><td>null</td><td>0.0</td><td>0.0</td><td>8.3</td><td>2012</td><td>3</td></tr></tbody></table></div>"
      ]
     },
     "metadata": {
      "application/vnd.databricks.v1+output": {
       "addedWidgets": {},
       "aggData": [],
       "aggError": "",
       "aggOverflow": false,
       "aggSchema": [],
       "aggSeriesLimitReached": false,
       "aggType": "",
       "arguments": {},
       "columnCustomDisplayInfos": {},
       "data": [
        [
         "CMT",
         "2012-02-29T23:53:14.000+0000",
         "2012-03-01T00:00:43.000+0000",
         1,
         2.1,
         null,
         null,
         -73.980494,
         40.730601,
         -73.983532,
         40.752311,
         1,
         "N",
         "CSH",
         7.3,
         0.5,
         0.5,
         null,
         0.0,
         0.0,
         8.3,
         2012,
         3
        ],
        [
         "VTS",
         "2012-03-17T08:01:00.000+0000",
         "2012-03-17T08:15:00.000+0000",
         1,
         11.06,
         null,
         null,
         -73.986067,
         40.699862,
         -73.814838,
         40.737052,
         1,
         null,
         "CRD",
         24.5,
         0.0,
         0.5,
         null,
         4.9,
         0.0,
         29.9,
         2012,
         3
        ],
        [
         "CMT",
         "2012-02-29T23:58:51.000+0000",
         "2012-03-01T00:15:48.000+0000",
         1,
         3.4,
         null,
         null,
         -73.968967,
         40.754359,
         -73.957048,
         40.743289,
         1,
         "N",
         "CRD",
         12.5,
         0.5,
         0.5,
         null,
         1.5,
         0.0,
         15.0,
         2012,
         3
        ],
        [
         "CMT",
         "2012-03-01T19:24:16.000+0000",
         "2012-03-01T19:31:22.000+0000",
         1,
         1.3,
         null,
         null,
         -73.99374,
         40.75307,
         -74.005428,
         40.741118,
         1,
         "N",
         "CRD",
         6.1,
         1.0,
         0.5,
         null,
         0.0,
         0.0,
         7.6,
         2012,
         3
        ],
        [
         "CMT",
         "2012-02-29T23:46:32.000+0000",
         "2012-03-01T00:05:18.000+0000",
         3,
         2.0,
         null,
         null,
         -73.973723,
         40.752323,
         -73.948275,
         40.769413,
         1,
         "N",
         "CSH",
         11.7,
         0.5,
         0.5,
         null,
         0.0,
         0.0,
         12.7,
         2012,
         3
        ],
        [
         "VTS",
         "2012-03-07T15:17:00.000+0000",
         "2012-03-07T15:26:00.000+0000",
         5,
         1.87,
         null,
         null,
         -73.988237,
         40.75929,
         -73.97114,
         40.78275,
         1,
         null,
         "CSH",
         7.7,
         0.0,
         0.5,
         null,
         0.0,
         0.0,
         8.2,
         2012,
         3
        ],
        [
         "CMT",
         "2012-02-29T23:41:58.000+0000",
         "2012-03-01T00:02:29.000+0000",
         1,
         12.4,
         null,
         null,
         -73.954536,
         40.727742,
         -73.768994,
         40.760246,
         1,
         "N",
         "CSH",
         28.5,
         0.5,
         0.5,
         null,
         0.0,
         0.0,
         29.5,
         2012,
         3
        ],
        [
         "VTS",
         "2012-03-18T15:21:00.000+0000",
         "2012-03-18T15:32:00.000+0000",
         6,
         2.51,
         null,
         null,
         -74.001705,
         40.732345,
         -73.974888,
         40.750835,
         1,
         null,
         "CSH",
         8.9,
         0.0,
         0.5,
         null,
         0.0,
         0.0,
         9.4,
         2012,
         3
        ],
        [
         "CMT",
         "2012-02-29T23:47:08.000+0000",
         "2012-03-01T00:06:42.000+0000",
         4,
         6.3,
         null,
         null,
         -73.992319,
         40.724503,
         -73.923589,
         40.76113,
         1,
         "N",
         "CRD",
         16.5,
         0.5,
         0.5,
         null,
         4.37,
         0.0,
         21.87,
         2012,
         3
        ],
        [
         "VTS",
         "2012-03-13T22:26:00.000+0000",
         "2012-03-13T22:37:00.000+0000",
         1,
         1.34,
         null,
         null,
         -74.009907,
         40.706292,
         -74.000512,
         40.71733,
         1,
         null,
         "CSH",
         7.3,
         0.5,
         0.5,
         null,
         0.0,
         0.0,
         8.3,
         2012,
         3
        ]
       ],
       "datasetInfos": [],
       "dbfsResultPath": null,
       "isJsonSchema": true,
       "metadata": {},
       "overflow": false,
       "plotOptions": {
        "customPlotOptions": {},
        "displayType": "table",
        "pivotAggregation": null,
        "pivotColumns": null,
        "xColumns": null,
        "yColumns": null
       },
       "removedWidgets": [],
       "schema": [
        {
         "metadata": "{}",
         "name": "vendorID",
         "type": "\"string\""
        },
        {
         "metadata": "{}",
         "name": "tpepPickupDateTime",
         "type": "\"timestamp\""
        },
        {
         "metadata": "{}",
         "name": "tpepDropoffDateTime",
         "type": "\"timestamp\""
        },
        {
         "metadata": "{}",
         "name": "passengerCount",
         "type": "\"integer\""
        },
        {
         "metadata": "{}",
         "name": "tripDistance",
         "type": "\"double\""
        },
        {
         "metadata": "{}",
         "name": "puLocationId",
         "type": "\"string\""
        },
        {
         "metadata": "{}",
         "name": "doLocationId",
         "type": "\"string\""
        },
        {
         "metadata": "{}",
         "name": "startLon",
         "type": "\"double\""
        },
        {
         "metadata": "{}",
         "name": "startLat",
         "type": "\"double\""
        },
        {
         "metadata": "{}",
         "name": "endLon",
         "type": "\"double\""
        },
        {
         "metadata": "{}",
         "name": "endLat",
         "type": "\"double\""
        },
        {
         "metadata": "{}",
         "name": "rateCodeId",
         "type": "\"integer\""
        },
        {
         "metadata": "{}",
         "name": "storeAndFwdFlag",
         "type": "\"string\""
        },
        {
         "metadata": "{}",
         "name": "paymentType",
         "type": "\"string\""
        },
        {
         "metadata": "{}",
         "name": "fareAmount",
         "type": "\"double\""
        },
        {
         "metadata": "{}",
         "name": "extra",
         "type": "\"double\""
        },
        {
         "metadata": "{}",
         "name": "mtaTax",
         "type": "\"double\""
        },
        {
         "metadata": "{}",
         "name": "improvementSurcharge",
         "type": "\"string\""
        },
        {
         "metadata": "{}",
         "name": "tipAmount",
         "type": "\"double\""
        },
        {
         "metadata": "{}",
         "name": "tollsAmount",
         "type": "\"double\""
        },
        {
         "metadata": "{}",
         "name": "totalAmount",
         "type": "\"double\""
        },
        {
         "metadata": "{}",
         "name": "puYear",
         "type": "\"integer\""
        },
        {
         "metadata": "{}",
         "name": "puMonth",
         "type": "\"integer\""
        }
       ],
       "type": "table"
      }
     },
     "output_type": "display_data"
    }
   ],
   "source": [
    "# Azure storage access info\n",
    "blob_account_name = \"azureopendatastorage\"\n",
    "blob_container_name = \"nyctlc\"\n",
    "blob_relative_path = \"yellow\"\n",
    "blob_sas_token = \"r\"\n",
    "\n",
    "# Allow SPARK to read from Blob remotely\n",
    "wasbs_path = 'wasbs://%s@%s.blob.core.windows.net/%s' % (blob_container_name, blob_account_name, blob_relative_path)\n",
    "spark.conf.set(\n",
    "  'fs.azure.sas.%s.%s.blob.core.windows.net' % (blob_container_name, blob_account_name),\n",
    "  blob_sas_token)\n",
    "print('Remote blob path: ' + wasbs_path)\n",
    "\n",
    "# SPARK read parquet, note that it won't load any data yet by now\n",
    "yellowtaxis = spark.read.parquet(wasbs_path)\n",
    "print('Register the DataFrame as a SQL temporary view: source')\n",
    "yellowtaxis.createOrReplaceTempView('source')\n",
    "\n",
    "# Display top 10 rows\n",
    "print('Displaying top 10 rows: ')\n",
    "display(spark.sql('SELECT * FROM source LIMIT 10'))"
   ]
  },
  {
   "cell_type": "code",
   "execution_count": 0,
   "metadata": {
    "application/vnd.databricks.v1+cell": {
     "cellMetadata": {
      "byteLimit": 2048000,
      "rowLimit": 10000
     },
     "inputWidgets": {},
     "nuid": "7976275e-7026-47ba-995e-d436ae43add2",
     "showTitle": false,
     "tableResultSettingsMap": {},
     "title": ""
    }
   },
   "outputs": [
    {
     "output_type": "display_data",
     "data": {
      "text/html": [
       "<style scoped>\n",
       "  .table-result-container {\n",
       "    max-height: 300px;\n",
       "    overflow: auto;\n",
       "  }\n",
       "  table, th, td {\n",
       "    border: 1px solid black;\n",
       "    border-collapse: collapse;\n",
       "  }\n",
       "  th, td {\n",
       "    padding: 5px;\n",
       "  }\n",
       "  th {\n",
       "    text-align: left;\n",
       "  }\n",
       "</style><div class='table-result-container'><table class='table-result'><thead style='background-color: white'><tr><th>LocationID</th><th>Borough</th><th>Zone</th><th>service_zone</th></tr></thead><tbody><tr><td>1</td><td>EWR</td><td>Newark Airport</td><td>EWR</td></tr><tr><td>2</td><td>Queens</td><td>Jamaica Bay</td><td>Boro Zone</td></tr><tr><td>3</td><td>Bronx</td><td>Allerton/Pelham Gardens</td><td>Boro Zone</td></tr><tr><td>4</td><td>Manhattan</td><td>Alphabet City</td><td>Yellow Zone</td></tr><tr><td>5</td><td>Staten Island</td><td>Arden Heights</td><td>Boro Zone</td></tr><tr><td>6</td><td>Staten Island</td><td>Arrochar/Fort Wadsworth</td><td>Boro Zone</td></tr><tr><td>7</td><td>Queens</td><td>Astoria</td><td>Boro Zone</td></tr><tr><td>8</td><td>Queens</td><td>Astoria Park</td><td>Boro Zone</td></tr><tr><td>9</td><td>Queens</td><td>Auburndale</td><td>Boro Zone</td></tr><tr><td>10</td><td>Queens</td><td>Baisley Park</td><td>Boro Zone</td></tr><tr><td>11</td><td>Brooklyn</td><td>Bath Beach</td><td>Boro Zone</td></tr><tr><td>12</td><td>Manhattan</td><td>Battery Park</td><td>Yellow Zone</td></tr><tr><td>13</td><td>Manhattan</td><td>Battery Park City</td><td>Yellow Zone</td></tr><tr><td>14</td><td>Brooklyn</td><td>Bay Ridge</td><td>Boro Zone</td></tr><tr><td>15</td><td>Queens</td><td>Bay Terrace/Fort Totten</td><td>Boro Zone</td></tr><tr><td>16</td><td>Queens</td><td>Bayside</td><td>Boro Zone</td></tr><tr><td>17</td><td>Brooklyn</td><td>Bedford</td><td>Boro Zone</td></tr><tr><td>18</td><td>Bronx</td><td>Bedford Park</td><td>Boro Zone</td></tr><tr><td>19</td><td>Queens</td><td>Bellerose</td><td>Boro Zone</td></tr><tr><td>20</td><td>Bronx</td><td>Belmont</td><td>Boro Zone</td></tr><tr><td>21</td><td>Brooklyn</td><td>Bensonhurst East</td><td>Boro Zone</td></tr><tr><td>22</td><td>Brooklyn</td><td>Bensonhurst West</td><td>Boro Zone</td></tr><tr><td>23</td><td>Staten Island</td><td>Bloomfield/Emerson Hill</td><td>Boro Zone</td></tr><tr><td>24</td><td>Manhattan</td><td>Bloomingdale</td><td>Yellow Zone</td></tr><tr><td>25</td><td>Brooklyn</td><td>Boerum Hill</td><td>Boro Zone</td></tr><tr><td>26</td><td>Brooklyn</td><td>Borough Park</td><td>Boro Zone</td></tr><tr><td>27</td><td>Queens</td><td>Breezy Point/Fort Tilden/Riis Beach</td><td>Boro Zone</td></tr><tr><td>28</td><td>Queens</td><td>Briarwood/Jamaica Hills</td><td>Boro Zone</td></tr><tr><td>29</td><td>Brooklyn</td><td>Brighton Beach</td><td>Boro Zone</td></tr><tr><td>30</td><td>Queens</td><td>Broad Channel</td><td>Boro Zone</td></tr><tr><td>31</td><td>Bronx</td><td>Bronx Park</td><td>Boro Zone</td></tr><tr><td>32</td><td>Bronx</td><td>Bronxdale</td><td>Boro Zone</td></tr><tr><td>33</td><td>Brooklyn</td><td>Brooklyn Heights</td><td>Boro Zone</td></tr><tr><td>34</td><td>Brooklyn</td><td>Brooklyn Navy Yard</td><td>Boro Zone</td></tr><tr><td>35</td><td>Brooklyn</td><td>Brownsville</td><td>Boro Zone</td></tr><tr><td>36</td><td>Brooklyn</td><td>Bushwick North</td><td>Boro Zone</td></tr><tr><td>37</td><td>Brooklyn</td><td>Bushwick South</td><td>Boro Zone</td></tr><tr><td>38</td><td>Queens</td><td>Cambria Heights</td><td>Boro Zone</td></tr><tr><td>39</td><td>Brooklyn</td><td>Canarsie</td><td>Boro Zone</td></tr><tr><td>40</td><td>Brooklyn</td><td>Carroll Gardens</td><td>Boro Zone</td></tr><tr><td>41</td><td>Manhattan</td><td>Central Harlem</td><td>Boro Zone</td></tr><tr><td>42</td><td>Manhattan</td><td>Central Harlem North</td><td>Boro Zone</td></tr><tr><td>43</td><td>Manhattan</td><td>Central Park</td><td>Yellow Zone</td></tr><tr><td>44</td><td>Staten Island</td><td>Charleston/Tottenville</td><td>Boro Zone</td></tr><tr><td>45</td><td>Manhattan</td><td>Chinatown</td><td>Yellow Zone</td></tr><tr><td>46</td><td>Bronx</td><td>City Island</td><td>Boro Zone</td></tr><tr><td>47</td><td>Bronx</td><td>Claremont/Bathgate</td><td>Boro Zone</td></tr><tr><td>48</td><td>Manhattan</td><td>Clinton East</td><td>Yellow Zone</td></tr><tr><td>49</td><td>Brooklyn</td><td>Clinton Hill</td><td>Boro Zone</td></tr><tr><td>50</td><td>Manhattan</td><td>Clinton West</td><td>Yellow Zone</td></tr><tr><td>51</td><td>Bronx</td><td>Co-Op City</td><td>Boro Zone</td></tr><tr><td>52</td><td>Brooklyn</td><td>Cobble Hill</td><td>Boro Zone</td></tr><tr><td>53</td><td>Queens</td><td>College Point</td><td>Boro Zone</td></tr><tr><td>54</td><td>Brooklyn</td><td>Columbia Street</td><td>Boro Zone</td></tr><tr><td>55</td><td>Brooklyn</td><td>Coney Island</td><td>Boro Zone</td></tr><tr><td>56</td><td>Queens</td><td>Corona</td><td>Boro Zone</td></tr><tr><td>57</td><td>Queens</td><td>Corona</td><td>Boro Zone</td></tr><tr><td>58</td><td>Bronx</td><td>Country Club</td><td>Boro Zone</td></tr><tr><td>59</td><td>Bronx</td><td>Crotona Park</td><td>Boro Zone</td></tr><tr><td>60</td><td>Bronx</td><td>Crotona Park East</td><td>Boro Zone</td></tr><tr><td>61</td><td>Brooklyn</td><td>Crown Heights North</td><td>Boro Zone</td></tr><tr><td>62</td><td>Brooklyn</td><td>Crown Heights South</td><td>Boro Zone</td></tr><tr><td>63</td><td>Brooklyn</td><td>Cypress Hills</td><td>Boro Zone</td></tr><tr><td>64</td><td>Queens</td><td>Douglaston</td><td>Boro Zone</td></tr><tr><td>65</td><td>Brooklyn</td><td>Downtown Brooklyn/MetroTech</td><td>Boro Zone</td></tr><tr><td>66</td><td>Brooklyn</td><td>DUMBO/Vinegar Hill</td><td>Boro Zone</td></tr><tr><td>67</td><td>Brooklyn</td><td>Dyker Heights</td><td>Boro Zone</td></tr><tr><td>68</td><td>Manhattan</td><td>East Chelsea</td><td>Yellow Zone</td></tr><tr><td>69</td><td>Bronx</td><td>East Concourse/Concourse Village</td><td>Boro Zone</td></tr><tr><td>70</td><td>Queens</td><td>East Elmhurst</td><td>Boro Zone</td></tr><tr><td>71</td><td>Brooklyn</td><td>East Flatbush/Farragut</td><td>Boro Zone</td></tr><tr><td>72</td><td>Brooklyn</td><td>East Flatbush/Remsen Village</td><td>Boro Zone</td></tr><tr><td>73</td><td>Queens</td><td>East Flushing</td><td>Boro Zone</td></tr><tr><td>74</td><td>Manhattan</td><td>East Harlem North</td><td>Boro Zone</td></tr><tr><td>75</td><td>Manhattan</td><td>East Harlem South</td><td>Boro Zone</td></tr><tr><td>76</td><td>Brooklyn</td><td>East New York</td><td>Boro Zone</td></tr><tr><td>77</td><td>Brooklyn</td><td>East New York/Pennsylvania Avenue</td><td>Boro Zone</td></tr><tr><td>78</td><td>Bronx</td><td>East Tremont</td><td>Boro Zone</td></tr><tr><td>79</td><td>Manhattan</td><td>East Village</td><td>Yellow Zone</td></tr><tr><td>80</td><td>Brooklyn</td><td>East Williamsburg</td><td>Boro Zone</td></tr><tr><td>81</td><td>Bronx</td><td>Eastchester</td><td>Boro Zone</td></tr><tr><td>82</td><td>Queens</td><td>Elmhurst</td><td>Boro Zone</td></tr><tr><td>83</td><td>Queens</td><td>Elmhurst/Maspeth</td><td>Boro Zone</td></tr><tr><td>84</td><td>Staten Island</td><td>Eltingville/Annadale/Prince's Bay</td><td>Boro Zone</td></tr><tr><td>85</td><td>Brooklyn</td><td>Erasmus</td><td>Boro Zone</td></tr><tr><td>86</td><td>Queens</td><td>Far Rockaway</td><td>Boro Zone</td></tr><tr><td>87</td><td>Manhattan</td><td>Financial District North</td><td>Yellow Zone</td></tr><tr><td>88</td><td>Manhattan</td><td>Financial District South</td><td>Yellow Zone</td></tr><tr><td>89</td><td>Brooklyn</td><td>Flatbush/Ditmas Park</td><td>Boro Zone</td></tr><tr><td>90</td><td>Manhattan</td><td>Flatiron</td><td>Yellow Zone</td></tr><tr><td>91</td><td>Brooklyn</td><td>Flatlands</td><td>Boro Zone</td></tr><tr><td>92</td><td>Queens</td><td>Flushing</td><td>Boro Zone</td></tr><tr><td>93</td><td>Queens</td><td>Flushing Meadows-Corona Park</td><td>Boro Zone</td></tr><tr><td>94</td><td>Bronx</td><td>Fordham South</td><td>Boro Zone</td></tr><tr><td>95</td><td>Queens</td><td>Forest Hills</td><td>Boro Zone</td></tr><tr><td>96</td><td>Queens</td><td>Forest Park/Highland Park</td><td>Boro Zone</td></tr><tr><td>97</td><td>Brooklyn</td><td>Fort Greene</td><td>Boro Zone</td></tr><tr><td>98</td><td>Queens</td><td>Fresh Meadows</td><td>Boro Zone</td></tr><tr><td>99</td><td>Staten Island</td><td>Freshkills Park</td><td>Boro Zone</td></tr><tr><td>100</td><td>Manhattan</td><td>Garment District</td><td>Yellow Zone</td></tr><tr><td>101</td><td>Queens</td><td>Glen Oaks</td><td>Boro Zone</td></tr><tr><td>102</td><td>Queens</td><td>Glendale</td><td>Boro Zone</td></tr><tr><td>103</td><td>Manhattan</td><td>Governor's Island/Ellis Island/Liberty Island</td><td>Yellow Zone</td></tr><tr><td>104</td><td>Manhattan</td><td>Governor's Island/Ellis Island/Liberty Island</td><td>Yellow Zone</td></tr><tr><td>105</td><td>Manhattan</td><td>Governor's Island/Ellis Island/Liberty Island</td><td>Yellow Zone</td></tr><tr><td>106</td><td>Brooklyn</td><td>Gowanus</td><td>Boro Zone</td></tr><tr><td>107</td><td>Manhattan</td><td>Gramercy</td><td>Yellow Zone</td></tr><tr><td>108</td><td>Brooklyn</td><td>Gravesend</td><td>Boro Zone</td></tr><tr><td>109</td><td>Staten Island</td><td>Great Kills</td><td>Boro Zone</td></tr><tr><td>110</td><td>Staten Island</td><td>Great Kills Park</td><td>Boro Zone</td></tr><tr><td>111</td><td>Brooklyn</td><td>Green-Wood Cemetery</td><td>Boro Zone</td></tr><tr><td>112</td><td>Brooklyn</td><td>Greenpoint</td><td>Boro Zone</td></tr><tr><td>113</td><td>Manhattan</td><td>Greenwich Village North</td><td>Yellow Zone</td></tr><tr><td>114</td><td>Manhattan</td><td>Greenwich Village South</td><td>Yellow Zone</td></tr><tr><td>115</td><td>Staten Island</td><td>Grymes Hill/Clifton</td><td>Boro Zone</td></tr><tr><td>116</td><td>Manhattan</td><td>Hamilton Heights</td><td>Boro Zone</td></tr><tr><td>117</td><td>Queens</td><td>Hammels/Arverne</td><td>Boro Zone</td></tr><tr><td>118</td><td>Staten Island</td><td>Heartland Village/Todt Hill</td><td>Boro Zone</td></tr><tr><td>119</td><td>Bronx</td><td>Highbridge</td><td>Boro Zone</td></tr><tr><td>120</td><td>Manhattan</td><td>Highbridge Park</td><td>Boro Zone</td></tr><tr><td>121</td><td>Queens</td><td>Hillcrest/Pomonok</td><td>Boro Zone</td></tr><tr><td>122</td><td>Queens</td><td>Hollis</td><td>Boro Zone</td></tr><tr><td>123</td><td>Brooklyn</td><td>Homecrest</td><td>Boro Zone</td></tr><tr><td>124</td><td>Queens</td><td>Howard Beach</td><td>Boro Zone</td></tr><tr><td>125</td><td>Manhattan</td><td>Hudson Sq</td><td>Yellow Zone</td></tr><tr><td>126</td><td>Bronx</td><td>Hunts Point</td><td>Boro Zone</td></tr><tr><td>127</td><td>Manhattan</td><td>Inwood</td><td>Boro Zone</td></tr><tr><td>128</td><td>Manhattan</td><td>Inwood Hill Park</td><td>Boro Zone</td></tr><tr><td>129</td><td>Queens</td><td>Jackson Heights</td><td>Boro Zone</td></tr><tr><td>130</td><td>Queens</td><td>Jamaica</td><td>Boro Zone</td></tr><tr><td>131</td><td>Queens</td><td>Jamaica Estates</td><td>Boro Zone</td></tr><tr><td>132</td><td>Queens</td><td>JFK Airport</td><td>Airports</td></tr><tr><td>133</td><td>Brooklyn</td><td>Kensington</td><td>Boro Zone</td></tr><tr><td>134</td><td>Queens</td><td>Kew Gardens</td><td>Boro Zone</td></tr><tr><td>135</td><td>Queens</td><td>Kew Gardens Hills</td><td>Boro Zone</td></tr><tr><td>136</td><td>Bronx</td><td>Kingsbridge Heights</td><td>Boro Zone</td></tr><tr><td>137</td><td>Manhattan</td><td>Kips Bay</td><td>Yellow Zone</td></tr><tr><td>138</td><td>Queens</td><td>LaGuardia Airport</td><td>Airports</td></tr><tr><td>139</td><td>Queens</td><td>Laurelton</td><td>Boro Zone</td></tr><tr><td>140</td><td>Manhattan</td><td>Lenox Hill East</td><td>Yellow Zone</td></tr><tr><td>141</td><td>Manhattan</td><td>Lenox Hill West</td><td>Yellow Zone</td></tr><tr><td>142</td><td>Manhattan</td><td>Lincoln Square East</td><td>Yellow Zone</td></tr><tr><td>143</td><td>Manhattan</td><td>Lincoln Square West</td><td>Yellow Zone</td></tr><tr><td>144</td><td>Manhattan</td><td>Little Italy/NoLiTa</td><td>Yellow Zone</td></tr><tr><td>145</td><td>Queens</td><td>Long Island City/Hunters Point</td><td>Boro Zone</td></tr><tr><td>146</td><td>Queens</td><td>Long Island City/Queens Plaza</td><td>Boro Zone</td></tr><tr><td>147</td><td>Bronx</td><td>Longwood</td><td>Boro Zone</td></tr><tr><td>148</td><td>Manhattan</td><td>Lower East Side</td><td>Yellow Zone</td></tr><tr><td>149</td><td>Brooklyn</td><td>Madison</td><td>Boro Zone</td></tr><tr><td>150</td><td>Brooklyn</td><td>Manhattan Beach</td><td>Boro Zone</td></tr><tr><td>151</td><td>Manhattan</td><td>Manhattan Valley</td><td>Yellow Zone</td></tr><tr><td>152</td><td>Manhattan</td><td>Manhattanville</td><td>Boro Zone</td></tr><tr><td>153</td><td>Manhattan</td><td>Marble Hill</td><td>Boro Zone</td></tr><tr><td>154</td><td>Brooklyn</td><td>Marine Park/Floyd Bennett Field</td><td>Boro Zone</td></tr><tr><td>155</td><td>Brooklyn</td><td>Marine Park/Mill Basin</td><td>Boro Zone</td></tr><tr><td>156</td><td>Staten Island</td><td>Mariners Harbor</td><td>Boro Zone</td></tr><tr><td>157</td><td>Queens</td><td>Maspeth</td><td>Boro Zone</td></tr><tr><td>158</td><td>Manhattan</td><td>Meatpacking/West Village West</td><td>Yellow Zone</td></tr><tr><td>159</td><td>Bronx</td><td>Melrose South</td><td>Boro Zone</td></tr><tr><td>160</td><td>Queens</td><td>Middle Village</td><td>Boro Zone</td></tr><tr><td>161</td><td>Manhattan</td><td>Midtown Center</td><td>Yellow Zone</td></tr><tr><td>162</td><td>Manhattan</td><td>Midtown East</td><td>Yellow Zone</td></tr><tr><td>163</td><td>Manhattan</td><td>Midtown North</td><td>Yellow Zone</td></tr><tr><td>164</td><td>Manhattan</td><td>Midtown South</td><td>Yellow Zone</td></tr><tr><td>165</td><td>Brooklyn</td><td>Midwood</td><td>Boro Zone</td></tr><tr><td>166</td><td>Manhattan</td><td>Morningside Heights</td><td>Boro Zone</td></tr><tr><td>167</td><td>Bronx</td><td>Morrisania/Melrose</td><td>Boro Zone</td></tr><tr><td>168</td><td>Bronx</td><td>Mott Haven/Port Morris</td><td>Boro Zone</td></tr><tr><td>169</td><td>Bronx</td><td>Mount Hope</td><td>Boro Zone</td></tr><tr><td>170</td><td>Manhattan</td><td>Murray Hill</td><td>Yellow Zone</td></tr><tr><td>171</td><td>Queens</td><td>Murray Hill-Queens</td><td>Boro Zone</td></tr><tr><td>172</td><td>Staten Island</td><td>New Dorp/Midland Beach</td><td>Boro Zone</td></tr><tr><td>173</td><td>Queens</td><td>North Corona</td><td>Boro Zone</td></tr><tr><td>174</td><td>Bronx</td><td>Norwood</td><td>Boro Zone</td></tr><tr><td>175</td><td>Queens</td><td>Oakland Gardens</td><td>Boro Zone</td></tr><tr><td>176</td><td>Staten Island</td><td>Oakwood</td><td>Boro Zone</td></tr><tr><td>177</td><td>Brooklyn</td><td>Ocean Hill</td><td>Boro Zone</td></tr><tr><td>178</td><td>Brooklyn</td><td>Ocean Parkway South</td><td>Boro Zone</td></tr><tr><td>179</td><td>Queens</td><td>Old Astoria</td><td>Boro Zone</td></tr><tr><td>180</td><td>Queens</td><td>Ozone Park</td><td>Boro Zone</td></tr><tr><td>181</td><td>Brooklyn</td><td>Park Slope</td><td>Boro Zone</td></tr><tr><td>182</td><td>Bronx</td><td>Parkchester</td><td>Boro Zone</td></tr><tr><td>183</td><td>Bronx</td><td>Pelham Bay</td><td>Boro Zone</td></tr><tr><td>184</td><td>Bronx</td><td>Pelham Bay Park</td><td>Boro Zone</td></tr><tr><td>185</td><td>Bronx</td><td>Pelham Parkway</td><td>Boro Zone</td></tr><tr><td>186</td><td>Manhattan</td><td>Penn Station/Madison Sq West</td><td>Yellow Zone</td></tr><tr><td>187</td><td>Staten Island</td><td>Port Richmond</td><td>Boro Zone</td></tr><tr><td>188</td><td>Brooklyn</td><td>Prospect-Lefferts Gardens</td><td>Boro Zone</td></tr><tr><td>189</td><td>Brooklyn</td><td>Prospect Heights</td><td>Boro Zone</td></tr><tr><td>190</td><td>Brooklyn</td><td>Prospect Park</td><td>Boro Zone</td></tr><tr><td>191</td><td>Queens</td><td>Queens Village</td><td>Boro Zone</td></tr><tr><td>192</td><td>Queens</td><td>Queensboro Hill</td><td>Boro Zone</td></tr><tr><td>193</td><td>Queens</td><td>Queensbridge/Ravenswood</td><td>Boro Zone</td></tr><tr><td>194</td><td>Manhattan</td><td>Randalls Island</td><td>Yellow Zone</td></tr><tr><td>195</td><td>Brooklyn</td><td>Red Hook</td><td>Boro Zone</td></tr><tr><td>196</td><td>Queens</td><td>Rego Park</td><td>Boro Zone</td></tr><tr><td>197</td><td>Queens</td><td>Richmond Hill</td><td>Boro Zone</td></tr><tr><td>198</td><td>Queens</td><td>Ridgewood</td><td>Boro Zone</td></tr><tr><td>199</td><td>Bronx</td><td>Rikers Island</td><td>Boro Zone</td></tr><tr><td>200</td><td>Bronx</td><td>Riverdale/North Riverdale/Fieldston</td><td>Boro Zone</td></tr><tr><td>201</td><td>Queens</td><td>Rockaway Park</td><td>Boro Zone</td></tr><tr><td>202</td><td>Manhattan</td><td>Roosevelt Island</td><td>Boro Zone</td></tr><tr><td>203</td><td>Queens</td><td>Rosedale</td><td>Boro Zone</td></tr><tr><td>204</td><td>Staten Island</td><td>Rossville/Woodrow</td><td>Boro Zone</td></tr><tr><td>205</td><td>Queens</td><td>Saint Albans</td><td>Boro Zone</td></tr><tr><td>206</td><td>Staten Island</td><td>Saint George/New Brighton</td><td>Boro Zone</td></tr><tr><td>207</td><td>Queens</td><td>Saint Michaels Cemetery/Woodside</td><td>Boro Zone</td></tr><tr><td>208</td><td>Bronx</td><td>Schuylerville/Edgewater Park</td><td>Boro Zone</td></tr><tr><td>209</td><td>Manhattan</td><td>Seaport</td><td>Yellow Zone</td></tr><tr><td>210</td><td>Brooklyn</td><td>Sheepshead Bay</td><td>Boro Zone</td></tr><tr><td>211</td><td>Manhattan</td><td>SoHo</td><td>Yellow Zone</td></tr><tr><td>212</td><td>Bronx</td><td>Soundview/Bruckner</td><td>Boro Zone</td></tr><tr><td>213</td><td>Bronx</td><td>Soundview/Castle Hill</td><td>Boro Zone</td></tr><tr><td>214</td><td>Staten Island</td><td>South Beach/Dongan Hills</td><td>Boro Zone</td></tr><tr><td>215</td><td>Queens</td><td>South Jamaica</td><td>Boro Zone</td></tr><tr><td>216</td><td>Queens</td><td>South Ozone Park</td><td>Boro Zone</td></tr><tr><td>217</td><td>Brooklyn</td><td>South Williamsburg</td><td>Boro Zone</td></tr><tr><td>218</td><td>Queens</td><td>Springfield Gardens North</td><td>Boro Zone</td></tr><tr><td>219</td><td>Queens</td><td>Springfield Gardens South</td><td>Boro Zone</td></tr><tr><td>220</td><td>Bronx</td><td>Spuyten Duyvil/Kingsbridge</td><td>Boro Zone</td></tr><tr><td>221</td><td>Staten Island</td><td>Stapleton</td><td>Boro Zone</td></tr><tr><td>222</td><td>Brooklyn</td><td>Starrett City</td><td>Boro Zone</td></tr><tr><td>223</td><td>Queens</td><td>Steinway</td><td>Boro Zone</td></tr><tr><td>224</td><td>Manhattan</td><td>Stuy Town/Peter Cooper Village</td><td>Yellow Zone</td></tr><tr><td>225</td><td>Brooklyn</td><td>Stuyvesant Heights</td><td>Boro Zone</td></tr><tr><td>226</td><td>Queens</td><td>Sunnyside</td><td>Boro Zone</td></tr><tr><td>227</td><td>Brooklyn</td><td>Sunset Park East</td><td>Boro Zone</td></tr><tr><td>228</td><td>Brooklyn</td><td>Sunset Park West</td><td>Boro Zone</td></tr><tr><td>229</td><td>Manhattan</td><td>Sutton Place/Turtle Bay North</td><td>Yellow Zone</td></tr><tr><td>230</td><td>Manhattan</td><td>Times Sq/Theatre District</td><td>Yellow Zone</td></tr><tr><td>231</td><td>Manhattan</td><td>TriBeCa/Civic Center</td><td>Yellow Zone</td></tr><tr><td>232</td><td>Manhattan</td><td>Two Bridges/Seward Park</td><td>Yellow Zone</td></tr><tr><td>233</td><td>Manhattan</td><td>UN/Turtle Bay South</td><td>Yellow Zone</td></tr><tr><td>234</td><td>Manhattan</td><td>Union Sq</td><td>Yellow Zone</td></tr><tr><td>235</td><td>Bronx</td><td>University Heights/Morris Heights</td><td>Boro Zone</td></tr><tr><td>236</td><td>Manhattan</td><td>Upper East Side North</td><td>Yellow Zone</td></tr><tr><td>237</td><td>Manhattan</td><td>Upper East Side South</td><td>Yellow Zone</td></tr><tr><td>238</td><td>Manhattan</td><td>Upper West Side North</td><td>Yellow Zone</td></tr><tr><td>239</td><td>Manhattan</td><td>Upper West Side South</td><td>Yellow Zone</td></tr><tr><td>240</td><td>Bronx</td><td>Van Cortlandt Park</td><td>Boro Zone</td></tr><tr><td>241</td><td>Bronx</td><td>Van Cortlandt Village</td><td>Boro Zone</td></tr><tr><td>242</td><td>Bronx</td><td>Van Nest/Morris Park</td><td>Boro Zone</td></tr><tr><td>243</td><td>Manhattan</td><td>Washington Heights North</td><td>Boro Zone</td></tr><tr><td>244</td><td>Manhattan</td><td>Washington Heights South</td><td>Boro Zone</td></tr><tr><td>245</td><td>Staten Island</td><td>West Brighton</td><td>Boro Zone</td></tr><tr><td>246</td><td>Manhattan</td><td>West Chelsea/Hudson Yards</td><td>Yellow Zone</td></tr><tr><td>247</td><td>Bronx</td><td>West Concourse</td><td>Boro Zone</td></tr><tr><td>248</td><td>Bronx</td><td>West Farms/Bronx River</td><td>Boro Zone</td></tr><tr><td>249</td><td>Manhattan</td><td>West Village</td><td>Yellow Zone</td></tr><tr><td>250</td><td>Bronx</td><td>Westchester Village/Unionport</td><td>Boro Zone</td></tr><tr><td>251</td><td>Staten Island</td><td>Westerleigh</td><td>Boro Zone</td></tr><tr><td>252</td><td>Queens</td><td>Whitestone</td><td>Boro Zone</td></tr><tr><td>253</td><td>Queens</td><td>Willets Point</td><td>Boro Zone</td></tr><tr><td>254</td><td>Bronx</td><td>Williamsbridge/Olinville</td><td>Boro Zone</td></tr><tr><td>255</td><td>Brooklyn</td><td>Williamsburg (North Side)</td><td>Boro Zone</td></tr><tr><td>256</td><td>Brooklyn</td><td>Williamsburg (South Side)</td><td>Boro Zone</td></tr><tr><td>257</td><td>Brooklyn</td><td>Windsor Terrace</td><td>Boro Zone</td></tr><tr><td>258</td><td>Queens</td><td>Woodhaven</td><td>Boro Zone</td></tr><tr><td>259</td><td>Bronx</td><td>Woodlawn/Wakefield</td><td>Boro Zone</td></tr><tr><td>260</td><td>Queens</td><td>Woodside</td><td>Boro Zone</td></tr><tr><td>261</td><td>Manhattan</td><td>World Trade Center</td><td>Yellow Zone</td></tr><tr><td>262</td><td>Manhattan</td><td>Yorkville East</td><td>Yellow Zone</td></tr><tr><td>263</td><td>Manhattan</td><td>Yorkville West</td><td>Yellow Zone</td></tr><tr><td>264</td><td>Unknown</td><td>NV</td><td>N/A</td></tr><tr><td>265</td><td>Unknown</td><td>NA</td><td>N/A</td></tr></tbody></table></div>"
      ]
     },
     "metadata": {
      "application/vnd.databricks.v1+output": {
       "addedWidgets": {},
       "aggData": [],
       "aggError": "",
       "aggOverflow": false,
       "aggSchema": [],
       "aggSeriesLimitReached": false,
       "aggType": "",
       "arguments": {},
       "columnCustomDisplayInfos": {},
       "data": [
        [
         1,
         "EWR",
         "Newark Airport",
         "EWR"
        ],
        [
         2,
         "Queens",
         "Jamaica Bay",
         "Boro Zone"
        ],
        [
         3,
         "Bronx",
         "Allerton/Pelham Gardens",
         "Boro Zone"
        ],
        [
         4,
         "Manhattan",
         "Alphabet City",
         "Yellow Zone"
        ],
        [
         5,
         "Staten Island",
         "Arden Heights",
         "Boro Zone"
        ],
        [
         6,
         "Staten Island",
         "Arrochar/Fort Wadsworth",
         "Boro Zone"
        ],
        [
         7,
         "Queens",
         "Astoria",
         "Boro Zone"
        ],
        [
         8,
         "Queens",
         "Astoria Park",
         "Boro Zone"
        ],
        [
         9,
         "Queens",
         "Auburndale",
         "Boro Zone"
        ],
        [
         10,
         "Queens",
         "Baisley Park",
         "Boro Zone"
        ],
        [
         11,
         "Brooklyn",
         "Bath Beach",
         "Boro Zone"
        ],
        [
         12,
         "Manhattan",
         "Battery Park",
         "Yellow Zone"
        ],
        [
         13,
         "Manhattan",
         "Battery Park City",
         "Yellow Zone"
        ],
        [
         14,
         "Brooklyn",
         "Bay Ridge",
         "Boro Zone"
        ],
        [
         15,
         "Queens",
         "Bay Terrace/Fort Totten",
         "Boro Zone"
        ],
        [
         16,
         "Queens",
         "Bayside",
         "Boro Zone"
        ],
        [
         17,
         "Brooklyn",
         "Bedford",
         "Boro Zone"
        ],
        [
         18,
         "Bronx",
         "Bedford Park",
         "Boro Zone"
        ],
        [
         19,
         "Queens",
         "Bellerose",
         "Boro Zone"
        ],
        [
         20,
         "Bronx",
         "Belmont",
         "Boro Zone"
        ],
        [
         21,
         "Brooklyn",
         "Bensonhurst East",
         "Boro Zone"
        ],
        [
         22,
         "Brooklyn",
         "Bensonhurst West",
         "Boro Zone"
        ],
        [
         23,
         "Staten Island",
         "Bloomfield/Emerson Hill",
         "Boro Zone"
        ],
        [
         24,
         "Manhattan",
         "Bloomingdale",
         "Yellow Zone"
        ],
        [
         25,
         "Brooklyn",
         "Boerum Hill",
         "Boro Zone"
        ],
        [
         26,
         "Brooklyn",
         "Borough Park",
         "Boro Zone"
        ],
        [
         27,
         "Queens",
         "Breezy Point/Fort Tilden/Riis Beach",
         "Boro Zone"
        ],
        [
         28,
         "Queens",
         "Briarwood/Jamaica Hills",
         "Boro Zone"
        ],
        [
         29,
         "Brooklyn",
         "Brighton Beach",
         "Boro Zone"
        ],
        [
         30,
         "Queens",
         "Broad Channel",
         "Boro Zone"
        ],
        [
         31,
         "Bronx",
         "Bronx Park",
         "Boro Zone"
        ],
        [
         32,
         "Bronx",
         "Bronxdale",
         "Boro Zone"
        ],
        [
         33,
         "Brooklyn",
         "Brooklyn Heights",
         "Boro Zone"
        ],
        [
         34,
         "Brooklyn",
         "Brooklyn Navy Yard",
         "Boro Zone"
        ],
        [
         35,
         "Brooklyn",
         "Brownsville",
         "Boro Zone"
        ],
        [
         36,
         "Brooklyn",
         "Bushwick North",
         "Boro Zone"
        ],
        [
         37,
         "Brooklyn",
         "Bushwick South",
         "Boro Zone"
        ],
        [
         38,
         "Queens",
         "Cambria Heights",
         "Boro Zone"
        ],
        [
         39,
         "Brooklyn",
         "Canarsie",
         "Boro Zone"
        ],
        [
         40,
         "Brooklyn",
         "Carroll Gardens",
         "Boro Zone"
        ],
        [
         41,
         "Manhattan",
         "Central Harlem",
         "Boro Zone"
        ],
        [
         42,
         "Manhattan",
         "Central Harlem North",
         "Boro Zone"
        ],
        [
         43,
         "Manhattan",
         "Central Park",
         "Yellow Zone"
        ],
        [
         44,
         "Staten Island",
         "Charleston/Tottenville",
         "Boro Zone"
        ],
        [
         45,
         "Manhattan",
         "Chinatown",
         "Yellow Zone"
        ],
        [
         46,
         "Bronx",
         "City Island",
         "Boro Zone"
        ],
        [
         47,
         "Bronx",
         "Claremont/Bathgate",
         "Boro Zone"
        ],
        [
         48,
         "Manhattan",
         "Clinton East",
         "Yellow Zone"
        ],
        [
         49,
         "Brooklyn",
         "Clinton Hill",
         "Boro Zone"
        ],
        [
         50,
         "Manhattan",
         "Clinton West",
         "Yellow Zone"
        ],
        [
         51,
         "Bronx",
         "Co-Op City",
         "Boro Zone"
        ],
        [
         52,
         "Brooklyn",
         "Cobble Hill",
         "Boro Zone"
        ],
        [
         53,
         "Queens",
         "College Point",
         "Boro Zone"
        ],
        [
         54,
         "Brooklyn",
         "Columbia Street",
         "Boro Zone"
        ],
        [
         55,
         "Brooklyn",
         "Coney Island",
         "Boro Zone"
        ],
        [
         56,
         "Queens",
         "Corona",
         "Boro Zone"
        ],
        [
         57,
         "Queens",
         "Corona",
         "Boro Zone"
        ],
        [
         58,
         "Bronx",
         "Country Club",
         "Boro Zone"
        ],
        [
         59,
         "Bronx",
         "Crotona Park",
         "Boro Zone"
        ],
        [
         60,
         "Bronx",
         "Crotona Park East",
         "Boro Zone"
        ],
        [
         61,
         "Brooklyn",
         "Crown Heights North",
         "Boro Zone"
        ],
        [
         62,
         "Brooklyn",
         "Crown Heights South",
         "Boro Zone"
        ],
        [
         63,
         "Brooklyn",
         "Cypress Hills",
         "Boro Zone"
        ],
        [
         64,
         "Queens",
         "Douglaston",
         "Boro Zone"
        ],
        [
         65,
         "Brooklyn",
         "Downtown Brooklyn/MetroTech",
         "Boro Zone"
        ],
        [
         66,
         "Brooklyn",
         "DUMBO/Vinegar Hill",
         "Boro Zone"
        ],
        [
         67,
         "Brooklyn",
         "Dyker Heights",
         "Boro Zone"
        ],
        [
         68,
         "Manhattan",
         "East Chelsea",
         "Yellow Zone"
        ],
        [
         69,
         "Bronx",
         "East Concourse/Concourse Village",
         "Boro Zone"
        ],
        [
         70,
         "Queens",
         "East Elmhurst",
         "Boro Zone"
        ],
        [
         71,
         "Brooklyn",
         "East Flatbush/Farragut",
         "Boro Zone"
        ],
        [
         72,
         "Brooklyn",
         "East Flatbush/Remsen Village",
         "Boro Zone"
        ],
        [
         73,
         "Queens",
         "East Flushing",
         "Boro Zone"
        ],
        [
         74,
         "Manhattan",
         "East Harlem North",
         "Boro Zone"
        ],
        [
         75,
         "Manhattan",
         "East Harlem South",
         "Boro Zone"
        ],
        [
         76,
         "Brooklyn",
         "East New York",
         "Boro Zone"
        ],
        [
         77,
         "Brooklyn",
         "East New York/Pennsylvania Avenue",
         "Boro Zone"
        ],
        [
         78,
         "Bronx",
         "East Tremont",
         "Boro Zone"
        ],
        [
         79,
         "Manhattan",
         "East Village",
         "Yellow Zone"
        ],
        [
         80,
         "Brooklyn",
         "East Williamsburg",
         "Boro Zone"
        ],
        [
         81,
         "Bronx",
         "Eastchester",
         "Boro Zone"
        ],
        [
         82,
         "Queens",
         "Elmhurst",
         "Boro Zone"
        ],
        [
         83,
         "Queens",
         "Elmhurst/Maspeth",
         "Boro Zone"
        ],
        [
         84,
         "Staten Island",
         "Eltingville/Annadale/Prince's Bay",
         "Boro Zone"
        ],
        [
         85,
         "Brooklyn",
         "Erasmus",
         "Boro Zone"
        ],
        [
         86,
         "Queens",
         "Far Rockaway",
         "Boro Zone"
        ],
        [
         87,
         "Manhattan",
         "Financial District North",
         "Yellow Zone"
        ],
        [
         88,
         "Manhattan",
         "Financial District South",
         "Yellow Zone"
        ],
        [
         89,
         "Brooklyn",
         "Flatbush/Ditmas Park",
         "Boro Zone"
        ],
        [
         90,
         "Manhattan",
         "Flatiron",
         "Yellow Zone"
        ],
        [
         91,
         "Brooklyn",
         "Flatlands",
         "Boro Zone"
        ],
        [
         92,
         "Queens",
         "Flushing",
         "Boro Zone"
        ],
        [
         93,
         "Queens",
         "Flushing Meadows-Corona Park",
         "Boro Zone"
        ],
        [
         94,
         "Bronx",
         "Fordham South",
         "Boro Zone"
        ],
        [
         95,
         "Queens",
         "Forest Hills",
         "Boro Zone"
        ],
        [
         96,
         "Queens",
         "Forest Park/Highland Park",
         "Boro Zone"
        ],
        [
         97,
         "Brooklyn",
         "Fort Greene",
         "Boro Zone"
        ],
        [
         98,
         "Queens",
         "Fresh Meadows",
         "Boro Zone"
        ],
        [
         99,
         "Staten Island",
         "Freshkills Park",
         "Boro Zone"
        ],
        [
         100,
         "Manhattan",
         "Garment District",
         "Yellow Zone"
        ],
        [
         101,
         "Queens",
         "Glen Oaks",
         "Boro Zone"
        ],
        [
         102,
         "Queens",
         "Glendale",
         "Boro Zone"
        ],
        [
         103,
         "Manhattan",
         "Governor's Island/Ellis Island/Liberty Island",
         "Yellow Zone"
        ],
        [
         104,
         "Manhattan",
         "Governor's Island/Ellis Island/Liberty Island",
         "Yellow Zone"
        ],
        [
         105,
         "Manhattan",
         "Governor's Island/Ellis Island/Liberty Island",
         "Yellow Zone"
        ],
        [
         106,
         "Brooklyn",
         "Gowanus",
         "Boro Zone"
        ],
        [
         107,
         "Manhattan",
         "Gramercy",
         "Yellow Zone"
        ],
        [
         108,
         "Brooklyn",
         "Gravesend",
         "Boro Zone"
        ],
        [
         109,
         "Staten Island",
         "Great Kills",
         "Boro Zone"
        ],
        [
         110,
         "Staten Island",
         "Great Kills Park",
         "Boro Zone"
        ],
        [
         111,
         "Brooklyn",
         "Green-Wood Cemetery",
         "Boro Zone"
        ],
        [
         112,
         "Brooklyn",
         "Greenpoint",
         "Boro Zone"
        ],
        [
         113,
         "Manhattan",
         "Greenwich Village North",
         "Yellow Zone"
        ],
        [
         114,
         "Manhattan",
         "Greenwich Village South",
         "Yellow Zone"
        ],
        [
         115,
         "Staten Island",
         "Grymes Hill/Clifton",
         "Boro Zone"
        ],
        [
         116,
         "Manhattan",
         "Hamilton Heights",
         "Boro Zone"
        ],
        [
         117,
         "Queens",
         "Hammels/Arverne",
         "Boro Zone"
        ],
        [
         118,
         "Staten Island",
         "Heartland Village/Todt Hill",
         "Boro Zone"
        ],
        [
         119,
         "Bronx",
         "Highbridge",
         "Boro Zone"
        ],
        [
         120,
         "Manhattan",
         "Highbridge Park",
         "Boro Zone"
        ],
        [
         121,
         "Queens",
         "Hillcrest/Pomonok",
         "Boro Zone"
        ],
        [
         122,
         "Queens",
         "Hollis",
         "Boro Zone"
        ],
        [
         123,
         "Brooklyn",
         "Homecrest",
         "Boro Zone"
        ],
        [
         124,
         "Queens",
         "Howard Beach",
         "Boro Zone"
        ],
        [
         125,
         "Manhattan",
         "Hudson Sq",
         "Yellow Zone"
        ],
        [
         126,
         "Bronx",
         "Hunts Point",
         "Boro Zone"
        ],
        [
         127,
         "Manhattan",
         "Inwood",
         "Boro Zone"
        ],
        [
         128,
         "Manhattan",
         "Inwood Hill Park",
         "Boro Zone"
        ],
        [
         129,
         "Queens",
         "Jackson Heights",
         "Boro Zone"
        ],
        [
         130,
         "Queens",
         "Jamaica",
         "Boro Zone"
        ],
        [
         131,
         "Queens",
         "Jamaica Estates",
         "Boro Zone"
        ],
        [
         132,
         "Queens",
         "JFK Airport",
         "Airports"
        ],
        [
         133,
         "Brooklyn",
         "Kensington",
         "Boro Zone"
        ],
        [
         134,
         "Queens",
         "Kew Gardens",
         "Boro Zone"
        ],
        [
         135,
         "Queens",
         "Kew Gardens Hills",
         "Boro Zone"
        ],
        [
         136,
         "Bronx",
         "Kingsbridge Heights",
         "Boro Zone"
        ],
        [
         137,
         "Manhattan",
         "Kips Bay",
         "Yellow Zone"
        ],
        [
         138,
         "Queens",
         "LaGuardia Airport",
         "Airports"
        ],
        [
         139,
         "Queens",
         "Laurelton",
         "Boro Zone"
        ],
        [
         140,
         "Manhattan",
         "Lenox Hill East",
         "Yellow Zone"
        ],
        [
         141,
         "Manhattan",
         "Lenox Hill West",
         "Yellow Zone"
        ],
        [
         142,
         "Manhattan",
         "Lincoln Square East",
         "Yellow Zone"
        ],
        [
         143,
         "Manhattan",
         "Lincoln Square West",
         "Yellow Zone"
        ],
        [
         144,
         "Manhattan",
         "Little Italy/NoLiTa",
         "Yellow Zone"
        ],
        [
         145,
         "Queens",
         "Long Island City/Hunters Point",
         "Boro Zone"
        ],
        [
         146,
         "Queens",
         "Long Island City/Queens Plaza",
         "Boro Zone"
        ],
        [
         147,
         "Bronx",
         "Longwood",
         "Boro Zone"
        ],
        [
         148,
         "Manhattan",
         "Lower East Side",
         "Yellow Zone"
        ],
        [
         149,
         "Brooklyn",
         "Madison",
         "Boro Zone"
        ],
        [
         150,
         "Brooklyn",
         "Manhattan Beach",
         "Boro Zone"
        ],
        [
         151,
         "Manhattan",
         "Manhattan Valley",
         "Yellow Zone"
        ],
        [
         152,
         "Manhattan",
         "Manhattanville",
         "Boro Zone"
        ],
        [
         153,
         "Manhattan",
         "Marble Hill",
         "Boro Zone"
        ],
        [
         154,
         "Brooklyn",
         "Marine Park/Floyd Bennett Field",
         "Boro Zone"
        ],
        [
         155,
         "Brooklyn",
         "Marine Park/Mill Basin",
         "Boro Zone"
        ],
        [
         156,
         "Staten Island",
         "Mariners Harbor",
         "Boro Zone"
        ],
        [
         157,
         "Queens",
         "Maspeth",
         "Boro Zone"
        ],
        [
         158,
         "Manhattan",
         "Meatpacking/West Village West",
         "Yellow Zone"
        ],
        [
         159,
         "Bronx",
         "Melrose South",
         "Boro Zone"
        ],
        [
         160,
         "Queens",
         "Middle Village",
         "Boro Zone"
        ],
        [
         161,
         "Manhattan",
         "Midtown Center",
         "Yellow Zone"
        ],
        [
         162,
         "Manhattan",
         "Midtown East",
         "Yellow Zone"
        ],
        [
         163,
         "Manhattan",
         "Midtown North",
         "Yellow Zone"
        ],
        [
         164,
         "Manhattan",
         "Midtown South",
         "Yellow Zone"
        ],
        [
         165,
         "Brooklyn",
         "Midwood",
         "Boro Zone"
        ],
        [
         166,
         "Manhattan",
         "Morningside Heights",
         "Boro Zone"
        ],
        [
         167,
         "Bronx",
         "Morrisania/Melrose",
         "Boro Zone"
        ],
        [
         168,
         "Bronx",
         "Mott Haven/Port Morris",
         "Boro Zone"
        ],
        [
         169,
         "Bronx",
         "Mount Hope",
         "Boro Zone"
        ],
        [
         170,
         "Manhattan",
         "Murray Hill",
         "Yellow Zone"
        ],
        [
         171,
         "Queens",
         "Murray Hill-Queens",
         "Boro Zone"
        ],
        [
         172,
         "Staten Island",
         "New Dorp/Midland Beach",
         "Boro Zone"
        ],
        [
         173,
         "Queens",
         "North Corona",
         "Boro Zone"
        ],
        [
         174,
         "Bronx",
         "Norwood",
         "Boro Zone"
        ],
        [
         175,
         "Queens",
         "Oakland Gardens",
         "Boro Zone"
        ],
        [
         176,
         "Staten Island",
         "Oakwood",
         "Boro Zone"
        ],
        [
         177,
         "Brooklyn",
         "Ocean Hill",
         "Boro Zone"
        ],
        [
         178,
         "Brooklyn",
         "Ocean Parkway South",
         "Boro Zone"
        ],
        [
         179,
         "Queens",
         "Old Astoria",
         "Boro Zone"
        ],
        [
         180,
         "Queens",
         "Ozone Park",
         "Boro Zone"
        ],
        [
         181,
         "Brooklyn",
         "Park Slope",
         "Boro Zone"
        ],
        [
         182,
         "Bronx",
         "Parkchester",
         "Boro Zone"
        ],
        [
         183,
         "Bronx",
         "Pelham Bay",
         "Boro Zone"
        ],
        [
         184,
         "Bronx",
         "Pelham Bay Park",
         "Boro Zone"
        ],
        [
         185,
         "Bronx",
         "Pelham Parkway",
         "Boro Zone"
        ],
        [
         186,
         "Manhattan",
         "Penn Station/Madison Sq West",
         "Yellow Zone"
        ],
        [
         187,
         "Staten Island",
         "Port Richmond",
         "Boro Zone"
        ],
        [
         188,
         "Brooklyn",
         "Prospect-Lefferts Gardens",
         "Boro Zone"
        ],
        [
         189,
         "Brooklyn",
         "Prospect Heights",
         "Boro Zone"
        ],
        [
         190,
         "Brooklyn",
         "Prospect Park",
         "Boro Zone"
        ],
        [
         191,
         "Queens",
         "Queens Village",
         "Boro Zone"
        ],
        [
         192,
         "Queens",
         "Queensboro Hill",
         "Boro Zone"
        ],
        [
         193,
         "Queens",
         "Queensbridge/Ravenswood",
         "Boro Zone"
        ],
        [
         194,
         "Manhattan",
         "Randalls Island",
         "Yellow Zone"
        ],
        [
         195,
         "Brooklyn",
         "Red Hook",
         "Boro Zone"
        ],
        [
         196,
         "Queens",
         "Rego Park",
         "Boro Zone"
        ],
        [
         197,
         "Queens",
         "Richmond Hill",
         "Boro Zone"
        ],
        [
         198,
         "Queens",
         "Ridgewood",
         "Boro Zone"
        ],
        [
         199,
         "Bronx",
         "Rikers Island",
         "Boro Zone"
        ],
        [
         200,
         "Bronx",
         "Riverdale/North Riverdale/Fieldston",
         "Boro Zone"
        ],
        [
         201,
         "Queens",
         "Rockaway Park",
         "Boro Zone"
        ],
        [
         202,
         "Manhattan",
         "Roosevelt Island",
         "Boro Zone"
        ],
        [
         203,
         "Queens",
         "Rosedale",
         "Boro Zone"
        ],
        [
         204,
         "Staten Island",
         "Rossville/Woodrow",
         "Boro Zone"
        ],
        [
         205,
         "Queens",
         "Saint Albans",
         "Boro Zone"
        ],
        [
         206,
         "Staten Island",
         "Saint George/New Brighton",
         "Boro Zone"
        ],
        [
         207,
         "Queens",
         "Saint Michaels Cemetery/Woodside",
         "Boro Zone"
        ],
        [
         208,
         "Bronx",
         "Schuylerville/Edgewater Park",
         "Boro Zone"
        ],
        [
         209,
         "Manhattan",
         "Seaport",
         "Yellow Zone"
        ],
        [
         210,
         "Brooklyn",
         "Sheepshead Bay",
         "Boro Zone"
        ],
        [
         211,
         "Manhattan",
         "SoHo",
         "Yellow Zone"
        ],
        [
         212,
         "Bronx",
         "Soundview/Bruckner",
         "Boro Zone"
        ],
        [
         213,
         "Bronx",
         "Soundview/Castle Hill",
         "Boro Zone"
        ],
        [
         214,
         "Staten Island",
         "South Beach/Dongan Hills",
         "Boro Zone"
        ],
        [
         215,
         "Queens",
         "South Jamaica",
         "Boro Zone"
        ],
        [
         216,
         "Queens",
         "South Ozone Park",
         "Boro Zone"
        ],
        [
         217,
         "Brooklyn",
         "South Williamsburg",
         "Boro Zone"
        ],
        [
         218,
         "Queens",
         "Springfield Gardens North",
         "Boro Zone"
        ],
        [
         219,
         "Queens",
         "Springfield Gardens South",
         "Boro Zone"
        ],
        [
         220,
         "Bronx",
         "Spuyten Duyvil/Kingsbridge",
         "Boro Zone"
        ],
        [
         221,
         "Staten Island",
         "Stapleton",
         "Boro Zone"
        ],
        [
         222,
         "Brooklyn",
         "Starrett City",
         "Boro Zone"
        ],
        [
         223,
         "Queens",
         "Steinway",
         "Boro Zone"
        ],
        [
         224,
         "Manhattan",
         "Stuy Town/Peter Cooper Village",
         "Yellow Zone"
        ],
        [
         225,
         "Brooklyn",
         "Stuyvesant Heights",
         "Boro Zone"
        ],
        [
         226,
         "Queens",
         "Sunnyside",
         "Boro Zone"
        ],
        [
         227,
         "Brooklyn",
         "Sunset Park East",
         "Boro Zone"
        ],
        [
         228,
         "Brooklyn",
         "Sunset Park West",
         "Boro Zone"
        ],
        [
         229,
         "Manhattan",
         "Sutton Place/Turtle Bay North",
         "Yellow Zone"
        ],
        [
         230,
         "Manhattan",
         "Times Sq/Theatre District",
         "Yellow Zone"
        ],
        [
         231,
         "Manhattan",
         "TriBeCa/Civic Center",
         "Yellow Zone"
        ],
        [
         232,
         "Manhattan",
         "Two Bridges/Seward Park",
         "Yellow Zone"
        ],
        [
         233,
         "Manhattan",
         "UN/Turtle Bay South",
         "Yellow Zone"
        ],
        [
         234,
         "Manhattan",
         "Union Sq",
         "Yellow Zone"
        ],
        [
         235,
         "Bronx",
         "University Heights/Morris Heights",
         "Boro Zone"
        ],
        [
         236,
         "Manhattan",
         "Upper East Side North",
         "Yellow Zone"
        ],
        [
         237,
         "Manhattan",
         "Upper East Side South",
         "Yellow Zone"
        ],
        [
         238,
         "Manhattan",
         "Upper West Side North",
         "Yellow Zone"
        ],
        [
         239,
         "Manhattan",
         "Upper West Side South",
         "Yellow Zone"
        ],
        [
         240,
         "Bronx",
         "Van Cortlandt Park",
         "Boro Zone"
        ],
        [
         241,
         "Bronx",
         "Van Cortlandt Village",
         "Boro Zone"
        ],
        [
         242,
         "Bronx",
         "Van Nest/Morris Park",
         "Boro Zone"
        ],
        [
         243,
         "Manhattan",
         "Washington Heights North",
         "Boro Zone"
        ],
        [
         244,
         "Manhattan",
         "Washington Heights South",
         "Boro Zone"
        ],
        [
         245,
         "Staten Island",
         "West Brighton",
         "Boro Zone"
        ],
        [
         246,
         "Manhattan",
         "West Chelsea/Hudson Yards",
         "Yellow Zone"
        ],
        [
         247,
         "Bronx",
         "West Concourse",
         "Boro Zone"
        ],
        [
         248,
         "Bronx",
         "West Farms/Bronx River",
         "Boro Zone"
        ],
        [
         249,
         "Manhattan",
         "West Village",
         "Yellow Zone"
        ],
        [
         250,
         "Bronx",
         "Westchester Village/Unionport",
         "Boro Zone"
        ],
        [
         251,
         "Staten Island",
         "Westerleigh",
         "Boro Zone"
        ],
        [
         252,
         "Queens",
         "Whitestone",
         "Boro Zone"
        ],
        [
         253,
         "Queens",
         "Willets Point",
         "Boro Zone"
        ],
        [
         254,
         "Bronx",
         "Williamsbridge/Olinville",
         "Boro Zone"
        ],
        [
         255,
         "Brooklyn",
         "Williamsburg (North Side)",
         "Boro Zone"
        ],
        [
         256,
         "Brooklyn",
         "Williamsburg (South Side)",
         "Boro Zone"
        ],
        [
         257,
         "Brooklyn",
         "Windsor Terrace",
         "Boro Zone"
        ],
        [
         258,
         "Queens",
         "Woodhaven",
         "Boro Zone"
        ],
        [
         259,
         "Bronx",
         "Woodlawn/Wakefield",
         "Boro Zone"
        ],
        [
         260,
         "Queens",
         "Woodside",
         "Boro Zone"
        ],
        [
         261,
         "Manhattan",
         "World Trade Center",
         "Yellow Zone"
        ],
        [
         262,
         "Manhattan",
         "Yorkville East",
         "Yellow Zone"
        ],
        [
         263,
         "Manhattan",
         "Yorkville West",
         "Yellow Zone"
        ],
        [
         264,
         "Unknown",
         "NV",
         "N/A"
        ],
        [
         265,
         "Unknown",
         "NA",
         "N/A"
        ]
       ],
       "datasetInfos": [],
       "dbfsResultPath": null,
       "isJsonSchema": true,
       "metadata": {},
       "overflow": false,
       "plotOptions": {
        "customPlotOptions": {},
        "displayType": "table",
        "pivotAggregation": null,
        "pivotColumns": null,
        "xColumns": null,
        "yColumns": null
       },
       "removedWidgets": [],
       "schema": [
        {
         "metadata": "{}",
         "name": "LocationID",
         "type": "\"integer\""
        },
        {
         "metadata": "{}",
         "name": "Borough",
         "type": "\"string\""
        },
        {
         "metadata": "{}",
         "name": "Zone",
         "type": "\"string\""
        },
        {
         "metadata": "{}",
         "name": "service_zone",
         "type": "\"string\""
        }
       ],
       "type": "table"
      }
     },
     "output_type": "display_data"
    }
   ],
   "source": [
    "# File location and type\n",
    "file_location = \"/FileStore/tables/taxi_zone_lookup-3.csv\"\n",
    "file_type = \"csv\"\n",
    "\n",
    "# CSV options\n",
    "infer_schema = \"true\"\n",
    "first_row_is_header = \"true\"\n",
    "delimiter = \",\"\n",
    "\n",
    "# The applied options are for CSV files. For other file types, these will be ignored.\n",
    "lookupexample = spark.read.format(file_type) \\\n",
    "  .option(\"inferSchema\", infer_schema) \\\n",
    "  .option(\"header\", first_row_is_header) \\\n",
    "  .option(\"sep\", delimiter) \\\n",
    "  .load(file_location)\n",
    "\n",
    "display(lookupexample)"
   ]
  },
  {
   "cell_type": "code",
   "execution_count": 0,
   "metadata": {
    "application/vnd.databricks.v1+cell": {
     "cellMetadata": {
      "byteLimit": 2048000,
      "rowLimit": 10000
     },
     "inputWidgets": {},
     "nuid": "546bc7a3-8df7-45be-9632-8ea0dc68d72b",
     "showTitle": false,
     "tableResultSettingsMap": {},
     "title": ""
    }
   },
   "outputs": [],
   "source": [
    "import pandas \n",
    "import numpy"
   ]
  },
  {
   "cell_type": "code",
   "execution_count": 0,
   "metadata": {
    "application/vnd.databricks.v1+cell": {
     "cellMetadata": {
      "byteLimit": 2048000,
      "rowLimit": 10000
     },
     "inputWidgets": {},
     "nuid": "b262ae29-9f45-493c-9177-a3698accc48c",
     "showTitle": false,
     "tableResultSettingsMap": {},
     "title": ""
    }
   },
   "outputs": [
    {
     "output_type": "display_data",
     "data": {
      "text/html": [
       "\n",
       "        <div>\n",
       "            <p><b>SparkContext</b></p>\n",
       "\n",
       "            <p><a href=\"/?o=2112910646764033#setting/sparkui/1204-013553-pvfyxiw7/driver-3256097669977565417\">Spark UI</a></p>\n",
       "\n",
       "            <dl>\n",
       "              <dt>Version</dt>\n",
       "                <dd><code>v3.3.2</code></dd>\n",
       "              <dt>Master</dt>\n",
       "                <dd><code>local[8]</code></dd>\n",
       "              <dt>AppName</dt>\n",
       "                <dd><code>Databricks Shell</code></dd>\n",
       "            </dl>\n",
       "        </div>\n",
       "        "
      ]
     },
     "metadata": {
      "application/vnd.databricks.v1+output": {
       "addedWidgets": {},
       "arguments": {},
       "data": "\n        <div>\n            <p><b>SparkContext</b></p>\n\n            <p><a href=\"/?o=2112910646764033#setting/sparkui/1204-013553-pvfyxiw7/driver-3256097669977565417\">Spark UI</a></p>\n\n            <dl>\n              <dt>Version</dt>\n                <dd><code>v3.3.2</code></dd>\n              <dt>Master</dt>\n                <dd><code>local[8]</code></dd>\n              <dt>AppName</dt>\n                <dd><code>Databricks Shell</code></dd>\n            </dl>\n        </div>\n        ",
       "datasetInfos": [],
       "metadata": {},
       "removedWidgets": [],
       "textData": null,
       "type": "htmlSandbox"
      }
     },
     "output_type": "display_data"
    }
   ],
   "source": [
    "sc"
   ]
  },
  {
   "cell_type": "code",
   "execution_count": 0,
   "metadata": {
    "application/vnd.databricks.v1+cell": {
     "cellMetadata": {
      "byteLimit": 2048000,
      "rowLimit": 10000
     },
     "inputWidgets": {},
     "nuid": "c20a7d5f-3add-4223-8246-7a2b0a48c301",
     "showTitle": false,
     "tableResultSettingsMap": {},
     "title": ""
    }
   },
   "outputs": [],
   "source": [
    "#### DO NOT CHANGE ANYTHING IN THIS CELL ####\n",
    "\n",
    "from pyspark.sql.functions import col\n",
    "\n",
    "def load_data():\n",
    "    trips = yellowtaxis\n",
    "    \n",
    "    print(\"Trip Count: \", trips.count())\n",
    "    lookup = lookupexample\n",
    "    return trips, lookup\n",
    "\n",
    "def main():\n",
    "    # Runs your functions implemented above.\n",
    "    \n",
    "    print(user())\n",
    "    trips, lookup = load_data()\n",
    "    trips = long_trips(trips)\n",
    "    mtrips = manhattan_trips(trips, lookup)\n",
    "    wp = weighted_profit(trips, mtrips)\n",
    "    final = final_output(wp,lookup)\n",
    "    \n",
    "    # Outputs the results for you to visually see\n",
    "    final.show()\n",
    "    \n",
    "    # Writes out as a CSV to your bucket.\n",
    "    #final.write.csv(bucket)"
   ]
  },
  {
   "cell_type": "code",
   "execution_count": 0,
   "metadata": {
    "application/vnd.databricks.v1+cell": {
     "cellMetadata": {
      "byteLimit": 2048000,
      "rowLimit": 10000
     },
     "inputWidgets": {},
     "nuid": "6fa8f528-845d-4d02-ba69-dd39a3973f04",
     "showTitle": false,
     "tableResultSettingsMap": {},
     "title": ""
    }
   },
   "outputs": [],
   "source": [
    "def user():\n",
    "    # Returns a string consisting of your username.\n",
    "    return 'Rafael Martínez Alarcón'"
   ]
  },
  {
   "cell_type": "code",
   "execution_count": 0,
   "metadata": {
    "application/vnd.databricks.v1+cell": {
     "cellMetadata": {
      "byteLimit": 2048000,
      "rowLimit": 10000
     },
     "inputWidgets": {},
     "nuid": "72e282dd-d6f4-4eca-84c0-e2f1e6e5a637",
     "showTitle": false,
     "tableResultSettingsMap": {},
     "title": ""
    }
   },
   "outputs": [],
   "source": [
    "def long_trips(trips):\n",
    "    # Returns a Dataframe with Schema the same as :trips:\n",
    "    filtered_trips = trips.filter(col(\"tripDistance\") >= 2)\n",
    "    return filtered_trips"
   ]
  },
  {
   "cell_type": "code",
   "execution_count": 0,
   "metadata": {
    "application/vnd.databricks.v1+cell": {
     "cellMetadata": {
      "byteLimit": 2048000,
      "rowLimit": 10000
     },
     "inputWidgets": {},
     "nuid": "a9f12f2d-5aeb-49a0-928b-aa1cc2cd543b",
     "showTitle": false,
     "tableResultSettingsMap": {},
     "title": ""
    }
   },
   "outputs": [],
   "source": [
    "from pyspark.sql import functions as F\n",
    "def manhattan_trips(trips, lookup):\n",
    "    # Returns a Dataframe with Schema: DOLocationID, pcount\n",
    "    manhattan_locations = lookup.filter(F.col(\"Borough\") == \"Manhattan\").select(\"LocationID\")\n",
    "    manhattan_trips = trips.join(manhattan_locations, trips[\"doLocationId\"] == manhattan_locations[\"LocationID\"], how=\"inner\")\n",
    "    result = manhattan_trips.groupBy(\"doLocationId\").agg(F.count(\"*\").alias(\"pcount\"))\n",
    "    result = result.orderBy(\"pcount\", ascending=False).limit(20).cache()\n",
    "    return result"
   ]
  },
  {
   "cell_type": "code",
   "execution_count": 0,
   "metadata": {
    "application/vnd.databricks.v1+cell": {
     "cellMetadata": {
      "byteLimit": 2048000,
      "rowLimit": 10000
     },
     "inputWidgets": {},
     "nuid": "47fe9bee-030d-4572-a4c9-16f56ef04b07",
     "showTitle": false,
     "tableResultSettingsMap": {},
     "title": ""
    }
   },
   "outputs": [],
   "source": [
    "from pyspark.sql import functions as F\n",
    "def weighted_profit(trips, mtrips): \n",
    "    avg_total_amount = trips.groupBy(\"puLocationId\").agg(F.avg(\"totalAmount\").alias(\"avg_total_amount\"))\n",
    "    total_trip_count = trips.groupBy(\"puLocationId\").agg(F.count(\"*\").alias(\"total_trip_count\"))\n",
    "    trips_with_popular_dropoffs = trips.join(mtrips, trips[\"doLocationId\"] == mtrips[\"doLocationId\"], \"inner\")\n",
    "    count_popular_dropoffs = trips_with_popular_dropoffs.groupBy(\"puLocationId\").agg(F.count(\"*\").alias(\"count_popular_dropoffs\"))\n",
    "    weighted_profit_df = avg_total_amount \\\n",
    "        .join(total_trip_count, \"puLocationId\", \"inner\") \\\n",
    "        .join(count_popular_dropoffs, \"puLocationId\", \"left\")\n",
    "    \n",
    "    weighted_profit_df = weighted_profit_df.withColumn(\"proportion\", \n",
    "                                                      F.col(\"count_popular_dropoffs\") / F.col(\"total_trip_count\"))\n",
    "    \n",
    "    weighted_profit_df = weighted_profit_df.withColumn(\"weighted_profit\", \n",
    "                                                      F.col(\"avg_total_amount\") * F.col(\"proportion\"))\n",
    "    \n",
    "    weighted_profit_df = weighted_profit_df.select(\"puLocationId\", \"weighted_profit\")\n",
    "    \n",
    "    return weighted_profit_df"
   ]
  },
  {
   "cell_type": "code",
   "execution_count": 0,
   "metadata": {
    "application/vnd.databricks.v1+cell": {
     "cellMetadata": {
      "byteLimit": 2048000,
      "rowLimit": 10000
     },
     "inputWidgets": {},
     "nuid": "c88344ef-ff96-4272-bd66-6e4d995c02fc",
     "showTitle": false,
     "tableResultSettingsMap": {},
     "title": ""
    }
   },
   "outputs": [],
   "source": [
    "def final_output(wp, lookup): \n",
    "    # Returns a Dataframe with Schema: Zone, Borough, weighted_profit\n",
    "    joined_df = wp.join(lookup, wp[\"puLocationId\"] == lookup[\"LocationID\"], how=\"inner\")\n",
    "    result = joined_df.groupBy(\"Zone\", \"Borough\").agg(\n",
    "        F.sum(\"weighted_profit\").alias(\"weighted_income\")\n",
    "    )\n",
    "    top_20 = result.orderBy(F.desc(\"weighted_income\")).limit(20)\n",
    "    \n",
    "    return top_20"
   ]
  },
  {
   "cell_type": "code",
   "execution_count": 0,
   "metadata": {
    "application/vnd.databricks.v1+cell": {
     "cellMetadata": {
      "byteLimit": 2048000,
      "rowLimit": 10000
     },
     "inputWidgets": {},
     "nuid": "6cb58fa9-1c82-4f36-aca3-367a93a1ddf0",
     "showTitle": false,
     "tableResultSettingsMap": {},
     "title": ""
    }
   },
   "outputs": [
    {
     "output_type": "stream",
     "name": "stdout",
     "output_type": "stream",
     "text": [
      "Rafael Martínez Alarcón\nTrip Count:  1571671152\n+--------------------+---------+------------------+\n|                Zone|  Borough|   weighted_income|\n+--------------------+---------+------------------+\n|        Baisley Park|   Queens|31.205081273352373|\n|       South Jamaica|   Queens| 29.71256744736692|\n|Flushing Meadows-...|   Queens|23.662750316881112|\n|     Randalls Island|Manhattan|22.793999713582004|\n|             Jamaica|   Queens| 21.42248840989114|\n|Springfield Garde...|   Queens|21.363622500312715|\n|Briarwood/Jamaica...|   Queens|19.011793788951703|\n|   LaGuardia Airport|   Queens|18.580626766045494|\n|              Corona|   Queens| 18.36363783456637|\n|         JFK Airport|   Queens| 18.04650717378282|\n|        Astoria Park|   Queens|17.088652456501677|\n|         Jamaica Bay|   Queens|15.050362596914402|\n|             Maspeth|   Queens|13.049770868392038|\n| Morningside Heights|Manhattan|  12.0643425344128|\n|   Battery Park City|Manhattan|11.922662352806961|\n|        Battery Park|Manhattan|11.852129419528039|\n|  World Trade Center|Manhattan|   11.671977537599|\n|Greenwich Village...|Manhattan|11.306603482761352|\n|        Bloomingdale|Manhattan|11.209295505960492|\n|      Central Harlem|Manhattan|11.118279995264874|\n+--------------------+---------+------------------+\n\n"
     ]
    }
   ],
   "source": [
    "main() \n"
   ]
  }
 ],
 "metadata": {
  "application/vnd.databricks.v1+notebook": {
   "dashboards": [],
   "environmentMetadata": null,
   "language": "python",
   "notebookMetadata": {
    "pythonIndentUnit": 4
   },
   "notebookName": "taxis",
   "widgets": {}
  }
 },
 "nbformat": 4,
 "nbformat_minor": 0
}
